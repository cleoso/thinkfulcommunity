{
 "cells": [
  {
   "cell_type": "markdown",
   "metadata": {
    "id": "SaJXwNo9OScG"
   },
   "source": [
    "## NumPy\n",
    "\n",
    "NumPy comes installed by default on Google Colaboratory, and Thinkful's Jupyter Notebook system also has it preinstalled. That means that you don't need to use pip to install NumPy for your coursework. However, you will need to install NumPy when you're working with Python in a from-scratch environment.\n",
    "\n",
    "NumPy was designed to make manipulating data easy. The fundamental structure that it uses is the *array*.  A NumPy array is a table of elements, all of the same type. Arrays may have one, two, or even more dimensions. \n",
    "\n",
    "![image.png](data:image/png;base64,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)\n",
    "\n",
    "Each dimension is called an *axis*. So in a one-dimensional array, there is only a single axis. In a two-dimensional array, there are two axes. In a three-dimensional array, there are three axes, and so on. The axes of the array are indexed by integers, and individual values in the array are referred to by the index of the axis.\n",
    "\n",
    "To work with NumPy, first import the library."
   ]
  },
  {
   "cell_type": "code",
   "execution_count": 2,
   "metadata": {
    "id": "R-CNZQgdOA_X"
   },
   "outputs": [],
   "source": [
    "import numpy as np"
   ]
  },
  {
   "cell_type": "markdown",
   "metadata": {},
   "source": []
  },
  {
   "cell_type": "markdown",
   "metadata": {
    "id": "0se4gEpLm5gj"
   },
   "source": [
    "## Array creation\n",
    "\n",
    "There are a few ways to create an array in NumPy. An array can be created from a list of values, like this:"
   ]
  },
  {
   "cell_type": "code",
   "execution_count": 3,
   "metadata": {
    "colab": {
     "base_uri": "https://localhost:8080/",
     "height": 34
    },
    "id": "8fkkwQTGnXL6",
    "outputId": "ead74ba3-012b-44d5-e717-9231882d1ad9"
   },
   "outputs": [
    {
     "name": "stdout",
     "output_type": "stream",
     "text": [
      "[5 3 7]\n"
     ]
    }
   ],
   "source": [
    "# A one-dimensional array\n",
    "a = np.array([5, 3, 7])\n",
    "print(a)"
   ]
  },
  {
   "cell_type": "markdown",
   "metadata": {
    "id": "qbRXHVhooWyu"
   },
   "source": [
    "Similarly, a two-dimensional array may be created by passing a list of lists."
   ]
  },
  {
   "cell_type": "code",
   "execution_count": 4,
   "metadata": {
    "colab": {
     "base_uri": "https://localhost:8080/",
     "height": 51
    },
    "id": "sRPL3lkHoeEu",
    "outputId": "89f16a10-c2cc-4baa-e665-b4670541653b"
   },
   "outputs": [
    {
     "name": "stdout",
     "output_type": "stream",
     "text": [
      "[[2 4 6]\n",
      " [3 5 7]]\n"
     ]
    }
   ],
   "source": [
    "# A two-dimensional array\n",
    "b = np.array([[2, 4, 6], [3, 5, 7]])\n",
    "print(b)"
   ]
  },
  {
   "cell_type": "markdown",
   "metadata": {
    "id": "oGwCxG7vsC4C"
   },
   "source": [
    "Sometimes, you may want to create an array out of a sequence of numbers. For example, you could create an array of all numbers from 0-19 as follows:"
   ]
  },
  {
   "cell_type": "code",
   "execution_count": 5,
   "metadata": {
    "colab": {
     "base_uri": "https://localhost:8080/",
     "height": 34
    },
    "id": "Gia1pkU1sQ1j",
    "outputId": "fb115c24-fbc5-4410-865f-fe40e49b490d"
   },
   "outputs": [
    {
     "name": "stdout",
     "output_type": "stream",
     "text": [
      "[ 0  1  2  3  4  5  6  7  8  9 10 11 12 13 14 15 16 17 18 19]\n"
     ]
    }
   ],
   "source": [
    "c = np.arange(20)\n",
    "print(c)"
   ]
  },
  {
   "cell_type": "markdown",
   "metadata": {
    "id": "Tt9SIHNIsfhG"
   },
   "source": [
    "The `arange()` method can optionally take `start`, `end`, and `step` parameters. To create an array of all even numbers from 20 to 50, for example, you can specify a `start` of `20`, `end` of `50`, and `step` of `2`. Note that the `end` parameter isn't inclusive."
   ]
  },
  {
   "cell_type": "code",
   "execution_count": 6,
   "metadata": {
    "colab": {
     "base_uri": "https://localhost:8080/",
     "height": 34
    },
    "id": "ksHJhT1ks71M",
    "outputId": "6168ee33-aeba-4b80-efe1-5eae87eb0b24"
   },
   "outputs": [
    {
     "name": "stdout",
     "output_type": "stream",
     "text": [
      "[20 22 24 26 28 30 32 34 36 38 40 42 44 46 48]\n"
     ]
    }
   ],
   "source": [
    "d = np.arange(20, 50, 2)\n",
    "print(d)"
   ]
  },
  {
   "cell_type": "markdown",
   "metadata": {
    "id": "wcg7t4PwtNNL"
   },
   "source": [
    "In general, resizing an array is more computationally expensive than creating one from scratch. Because of this, sometimes it makes sense to create an array of a given size with placeholder values that you later fill in with meaningful values. The `zeros()` method provides an easy way to create an array of zeros. Take a look:"
   ]
  },
  {
   "cell_type": "code",
   "execution_count": 7,
   "metadata": {
    "colab": {
     "base_uri": "https://localhost:8080/",
     "height": 34
    },
    "id": "S_oAbn5ptjLU",
    "outputId": "15b480a4-45a8-489b-def6-31586db24dca"
   },
   "outputs": [
    {
     "name": "stdout",
     "output_type": "stream",
     "text": [
      "[0. 0. 0. 0. 0. 0. 0. 0. 0. 0.]\n"
     ]
    }
   ],
   "source": [
    "# Create an array of zeros\n",
    "e = np.zeros(10)\n",
    "print(e)"
   ]
  },
  {
   "cell_type": "code",
   "execution_count": 8,
   "metadata": {
    "colab": {
     "base_uri": "https://localhost:8080/",
     "height": 102
    },
    "id": "PiPA-x3VtxGA",
    "outputId": "2f051250-aa00-42ce-c0fe-096e287e24da"
   },
   "outputs": [
    {
     "name": "stdout",
     "output_type": "stream",
     "text": [
      "[[1. 1. 1. 1. 1. 1. 1. 1.]\n",
      " [1. 1. 1. 1. 1. 1. 1. 1.]\n",
      " [1. 1. 1. 1. 1. 1. 1. 1.]\n",
      " [1. 1. 1. 1. 1. 1. 1. 1.]\n",
      " [1. 1. 1. 1. 1. 1. 1. 1.]]\n"
     ]
    }
   ],
   "source": [
    "# Create a two-dimensional array of ones\n",
    "f = np.ones((5, 8))\n",
    "print(f)"
   ]
  },
  {
   "cell_type": "markdown",
   "metadata": {
    "id": "A-npZFv8uMQn"
   },
   "source": [
    "## The `reshape()` method\n",
    "\n",
    "You can change the dimensions of an array with the `reshape()` method. For example, here's what you could do if you had a one-dimensional array of 20 numbers and needed to convert it to a 4x5 array of the same numbers:"
   ]
  },
  {
   "cell_type": "code",
   "execution_count": null,
   "metadata": {
    "colab": {
     "base_uri": "https://localhost:8080/",
     "height": 102
    },
    "id": "iBmQOTOWuhMO",
    "outputId": "dcf5b441-90aa-4b27-e103-aace7136640c"
   },
   "outputs": [
    {
     "name": "stdout",
     "output_type": "stream",
     "text": [
      "[ 0  1  2  3  4  5  6  7  8  9 10 11 12 13 14 15 16 17 18 19]\n",
      "[[ 0  1  2  3  4]\n",
      " [ 5  6  7  8  9]\n",
      " [10 11 12 13 14]\n",
      " [15 16 17 18 19]]\n"
     ]
    }
   ],
   "source": [
    "g = np.arange(20)\n",
    "print(g)\n",
    "\n",
    "g = g.reshape(4, 5)\n",
    "print(g)"
   ]
  },
  {
   "cell_type": "markdown",
   "metadata": {
    "id": "JtDh7VT5u2i8"
   },
   "source": [
    "## Basic attributes\n",
    "\n",
    "The `array` object has several useful attributes. Here are some of them:\n",
    "\n",
    "\n",
    "* `ndim`: The number of axes\n",
    "* `shape`: The dimensions of the array\n",
    "* `size`: The number of elements in the array\n",
    "* `dtype`: The data type of the elements of the array\n",
    "\n",
    "\n"
   ]
  },
  {
   "cell_type": "code",
   "execution_count": null,
   "metadata": {
    "colab": {
     "base_uri": "https://localhost:8080/",
     "height": 85
    },
    "id": "0gv4A01wvZ85",
    "outputId": "5b4a3f01-2a75-44c4-f4c7-0f02de56a8dc"
   },
   "outputs": [
    {
     "name": "stdout",
     "output_type": "stream",
     "text": [
      "There are 2 axes in this array.\n",
      "This is a (5, 5) array\n",
      "This array contains 25 elements\n",
      "This array contains values of type int64\n"
     ]
    }
   ],
   "source": [
    "# Create a new array\n",
    "h = np.arange(25).reshape(5, 5)\n",
    "\n",
    "# Print the number of axes in this array\n",
    "print('There are {} axes in this array.'.format(h.ndim))\n",
    "\n",
    "# Print the shape of the array\n",
    "print('This is a {} array'.format(h.shape))\n",
    "\n",
    "# Print the size of the array\n",
    "print('This array contains {} elements'.format(h.size))\n",
    "\n",
    "# Print the data type of the elements\n",
    "print('This array contains values of type {}'.format(h.dtype))"
   ]
  },
  {
   "cell_type": "markdown",
   "metadata": {
    "id": "fH4FVXfbwnw6"
   },
   "source": [
    "## Basic operators\n",
    "\n",
    "A class of 30 students completed a coursework assessment worth 40% and a final exam worth 60% of the final grade. The grades for the coursework and the marks for the exam are in two arrays. Find the total for each student by adding corresponding grades from the two arrays.\n",
    "\n",
    "To solve this sort of problem, you need to iterate over the arrays and add corresponding values to create a third array. NumPy has built-in operators that perform *element-wise* operations, and that's what you need here. NumPy's arithmetic operators are all element-wise."
   ]
  },
  {
   "cell_type": "code",
   "execution_count": null,
   "metadata": {
    "colab": {
     "base_uri": "https://localhost:8080/",
     "height": 170
    },
    "id": "AS31LQVjlbv7",
    "outputId": "02ccaa2d-6580-4005-fa3d-8e22052d5154"
   },
   "outputs": [
    {
     "name": "stdout",
     "output_type": "stream",
     "text": [
      "The coursework marks are:\n",
      "[ 1 32 31 11 11 15  0  2 26 40 22  2  6  6 33 30 39 38 32 10 19  1 31 28\n",
      "  9 10 17 32 24 24]\n",
      "The final exam marks are:\n",
      "[21 34 52 20 18 24 18 24 36 34 19 38 42 17 40 50 34  5 23 29  7 31 31  6\n",
      " 28 30 35 49  4 48]\n",
      "The total marks are:\n",
      "[22 66 83 31 29 39 18 26 62 74 41 40 48 23 73 80 73 43 55 39 26 32 62 34\n",
      " 37 40 52 81 28 72]\n"
     ]
    }
   ],
   "source": [
    "# Use NumPy's random methods to create an array of random values\n",
    "cw_marks = np.random.randint(0, 41, 30)\n",
    "exam_marks = np.random.randint(0, 61, 30)\n",
    "\n",
    "print('The coursework marks are:')\n",
    "print(cw_marks)\n",
    "print('The final exam marks are:')\n",
    "print(exam_marks)\n",
    "\n",
    "total = cw_marks + exam_marks\n",
    "\n",
    "print('The total marks are:')\n",
    "print(total)"
   ]
  },
  {
   "cell_type": "markdown",
   "metadata": {
    "id": "80Ii7lqgsH7o"
   },
   "source": [
    "Some operators on arrays are called *aggregator* functions because they aggregate the elements of the array and return a single value. For example, you can use built-in NumPy functions to find the mean, min, and max of the total grades."
   ]
  },
  {
   "cell_type": "code",
   "execution_count": null,
   "metadata": {
    "colab": {
     "base_uri": "https://localhost:8080/",
     "height": 85
    },
    "id": "dS8sp2hjszBR",
    "outputId": "857cb096-1b9c-4830-84de-498caa46defc"
   },
   "outputs": [
    {
     "name": "stdout",
     "output_type": "stream",
     "text": [
      "The highest mark in the couse was 83\n",
      "The lowest mark in the course was 18\n",
      "The mean mark in the course was 47.63333333333333\n",
      "The standard deviation of the marks in the course was 19.8099021255084\n"
     ]
    }
   ],
   "source": [
    "print('The highest mark in the couse was {}'. format(np.max(total)))\n",
    "print('The lowest mark in the course was {}'.format(np.min(total)))\n",
    "print('The mean mark in the course was {}'.format(np.mean(total)))\n",
    "print('The standard deviation of the marks in the course was {}'.format(np.std(total)))"
   ]
  }
 ],
 "metadata": {
  "colab": {
   "collapsed_sections": [],
   "name": "python_intro_numpy.ipynb",
   "provenance": []
  },
  "kernelspec": {
   "display_name": "Python 3.10.8 64-bit (microsoft store)",
   "language": "python",
   "name": "python3"
  },
  "language_info": {
   "codemirror_mode": {
    "name": "ipython",
    "version": 3
   },
   "file_extension": ".py",
   "mimetype": "text/x-python",
   "name": "python",
   "nbconvert_exporter": "python",
   "pygments_lexer": "ipython3",
   "version": "3.10.8"
  },
  "vscode": {
   "interpreter": {
    "hash": "e0acaf148705ed9ed86cc5cad12259d7985e30670e5686e5f55604a9b3b84a55"
   }
  }
 },
 "nbformat": 4,
 "nbformat_minor": 1
}
