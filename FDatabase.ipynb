{
 "cells": [
  {
   "attachments": {},
   "cell_type": "markdown",
   "metadata": {},
   "source": [
    "# Friend Database Collection\n",
    "In this collection I will be collecting all the information of the people that I have had the honor of sharing my life with. In this a database is formulated to be able to properly track and organize historical events that have happened in my life."
   ]
  },
  {
   "attachments": {},
   "cell_type": "markdown",
   "metadata": {},
   "source": [
    "# imports\n",
    "Imports proper libraries for use of excel sheets, basic math, and sql database systems."
   ]
  },
  {
   "cell_type": "code",
   "execution_count": 1,
   "metadata": {},
   "outputs": [],
   "source": [
    "#imports\n",
    "import pandas as pd\n",
    "import seaborn as sns\n",
    "import openpyxl\n",
    "from sqlalchemy import create_engine\n",
    "\n",
    "sns.set()\n",
    "\n",
    "#Supress warnings (warning signs will not allow code to execute)\n",
    "import warnings\n",
    "warnings.filterwarnings(\"ignore\")"
   ]
  },
  {
   "attachments": {},
   "cell_type": "markdown",
   "metadata": {},
   "source": [
    "# database\n",
    "Importing the databse that we will be updating and uploading. The file is a excel sheet stored locally on package computer."
   ]
  },
  {
   "cell_type": "code",
   "execution_count": 2,
   "metadata": {},
   "outputs": [],
   "source": [
    "#import file\n",
    "friend = pd.read_excel('./FEDtemp.xlsx')"
   ]
  },
  {
   "cell_type": "code",
   "execution_count": 3,
   "metadata": {},
   "outputs": [
    {
     "name": "stdout",
     "output_type": "stream",
     "text": [
      "<class 'pandas.core.frame.DataFrame'>\n",
      "RangeIndex: 183 entries, 0 to 182\n",
      "Data columns (total 6 columns):\n",
      " #   Column       Non-Null Count  Dtype  \n",
      "---  ------       --------------  -----  \n",
      " 0   FULL NAME    183 non-null    object \n",
      " 1   First Name   181 non-null    object \n",
      " 2   Middle Name  25 non-null     object \n",
      " 3   Last Name    181 non-null    object \n",
      " 4   Education    0 non-null      float64\n",
      " 5   Occupation   0 non-null      float64\n",
      "dtypes: float64(2), object(4)\n",
      "memory usage: 8.7+ KB\n"
     ]
    }
   ],
   "source": [
    "#basic database informaiton\n",
    "friend.info()"
   ]
  },
  {
   "cell_type": "code",
   "execution_count": 4,
   "metadata": {},
   "outputs": [
    {
     "data": {
      "text/plain": [
       "(183, 6)"
      ]
     },
     "execution_count": 4,
     "metadata": {},
     "output_type": "execute_result"
    }
   ],
   "source": [
    "#total shape of table\n",
    "friend.shape"
   ]
  },
  {
   "cell_type": "code",
   "execution_count": 5,
   "metadata": {},
   "outputs": [
    {
     "data": {
      "text/html": [
       "<div>\n",
       "<style scoped>\n",
       "    .dataframe tbody tr th:only-of-type {\n",
       "        vertical-align: middle;\n",
       "    }\n",
       "\n",
       "    .dataframe tbody tr th {\n",
       "        vertical-align: top;\n",
       "    }\n",
       "\n",
       "    .dataframe thead th {\n",
       "        text-align: right;\n",
       "    }\n",
       "</style>\n",
       "<table border=\"1\" class=\"dataframe\">\n",
       "  <thead>\n",
       "    <tr style=\"text-align: right;\">\n",
       "      <th></th>\n",
       "      <th>Education</th>\n",
       "      <th>Occupation</th>\n",
       "    </tr>\n",
       "  </thead>\n",
       "  <tbody>\n",
       "    <tr>\n",
       "      <th>count</th>\n",
       "      <td>0.0</td>\n",
       "      <td>0.0</td>\n",
       "    </tr>\n",
       "    <tr>\n",
       "      <th>mean</th>\n",
       "      <td>NaN</td>\n",
       "      <td>NaN</td>\n",
       "    </tr>\n",
       "    <tr>\n",
       "      <th>std</th>\n",
       "      <td>NaN</td>\n",
       "      <td>NaN</td>\n",
       "    </tr>\n",
       "    <tr>\n",
       "      <th>min</th>\n",
       "      <td>NaN</td>\n",
       "      <td>NaN</td>\n",
       "    </tr>\n",
       "    <tr>\n",
       "      <th>25%</th>\n",
       "      <td>NaN</td>\n",
       "      <td>NaN</td>\n",
       "    </tr>\n",
       "    <tr>\n",
       "      <th>50%</th>\n",
       "      <td>NaN</td>\n",
       "      <td>NaN</td>\n",
       "    </tr>\n",
       "    <tr>\n",
       "      <th>75%</th>\n",
       "      <td>NaN</td>\n",
       "      <td>NaN</td>\n",
       "    </tr>\n",
       "    <tr>\n",
       "      <th>max</th>\n",
       "      <td>NaN</td>\n",
       "      <td>NaN</td>\n",
       "    </tr>\n",
       "  </tbody>\n",
       "</table>\n",
       "</div>"
      ],
      "text/plain": [
       "       Education  Occupation\n",
       "count        0.0         0.0\n",
       "mean         NaN         NaN\n",
       "std          NaN         NaN\n",
       "min          NaN         NaN\n",
       "25%          NaN         NaN\n",
       "50%          NaN         NaN\n",
       "75%          NaN         NaN\n",
       "max          NaN         NaN"
      ]
     },
     "execution_count": 5,
     "metadata": {},
     "output_type": "execute_result"
    }
   ],
   "source": [
    "#describe method to describe the database\n",
    "friend.describe()"
   ]
  },
  {
   "cell_type": "code",
   "execution_count": 6,
   "metadata": {},
   "outputs": [
    {
     "data": {
      "text/plain": [
       "Index(['FULL NAME', 'First Name', 'Middle Name', 'Last Name', 'Education',\n",
       "       'Occupation'],\n",
       "      dtype='object')"
      ]
     },
     "execution_count": 6,
     "metadata": {},
     "output_type": "execute_result"
    }
   ],
   "source": [
    "#show case the columns\n",
    "friend.columns"
   ]
  },
  {
   "attachments": {},
   "cell_type": "markdown",
   "metadata": {},
   "source": [
    "# missing information\n",
    "Determines the amount of informaiton wihtin the database that is null or unique\n"
   ]
  },
  {
   "cell_type": "code",
   "execution_count": 7,
   "metadata": {},
   "outputs": [
    {
     "data": {
      "text/html": [
       "<div>\n",
       "<style scoped>\n",
       "    .dataframe tbody tr th:only-of-type {\n",
       "        vertical-align: middle;\n",
       "    }\n",
       "\n",
       "    .dataframe tbody tr th {\n",
       "        vertical-align: top;\n",
       "    }\n",
       "\n",
       "    .dataframe thead th {\n",
       "        text-align: right;\n",
       "    }\n",
       "</style>\n",
       "<table border=\"1\" class=\"dataframe\">\n",
       "  <thead>\n",
       "    <tr style=\"text-align: right;\">\n",
       "      <th></th>\n",
       "      <th>FULL NAME</th>\n",
       "      <th>First Name</th>\n",
       "      <th>Middle Name</th>\n",
       "      <th>Last Name</th>\n",
       "      <th>Education</th>\n",
       "      <th>Occupation</th>\n",
       "    </tr>\n",
       "  </thead>\n",
       "  <tbody>\n",
       "    <tr>\n",
       "      <th>0</th>\n",
       "      <td>False</td>\n",
       "      <td>False</td>\n",
       "      <td>False</td>\n",
       "      <td>False</td>\n",
       "      <td>True</td>\n",
       "      <td>True</td>\n",
       "    </tr>\n",
       "    <tr>\n",
       "      <th>1</th>\n",
       "      <td>False</td>\n",
       "      <td>False</td>\n",
       "      <td>False</td>\n",
       "      <td>False</td>\n",
       "      <td>True</td>\n",
       "      <td>True</td>\n",
       "    </tr>\n",
       "    <tr>\n",
       "      <th>2</th>\n",
       "      <td>False</td>\n",
       "      <td>False</td>\n",
       "      <td>False</td>\n",
       "      <td>False</td>\n",
       "      <td>True</td>\n",
       "      <td>True</td>\n",
       "    </tr>\n",
       "    <tr>\n",
       "      <th>3</th>\n",
       "      <td>False</td>\n",
       "      <td>False</td>\n",
       "      <td>True</td>\n",
       "      <td>False</td>\n",
       "      <td>True</td>\n",
       "      <td>True</td>\n",
       "    </tr>\n",
       "    <tr>\n",
       "      <th>4</th>\n",
       "      <td>False</td>\n",
       "      <td>False</td>\n",
       "      <td>False</td>\n",
       "      <td>False</td>\n",
       "      <td>True</td>\n",
       "      <td>True</td>\n",
       "    </tr>\n",
       "    <tr>\n",
       "      <th>...</th>\n",
       "      <td>...</td>\n",
       "      <td>...</td>\n",
       "      <td>...</td>\n",
       "      <td>...</td>\n",
       "      <td>...</td>\n",
       "      <td>...</td>\n",
       "    </tr>\n",
       "    <tr>\n",
       "      <th>178</th>\n",
       "      <td>False</td>\n",
       "      <td>False</td>\n",
       "      <td>True</td>\n",
       "      <td>False</td>\n",
       "      <td>True</td>\n",
       "      <td>True</td>\n",
       "    </tr>\n",
       "    <tr>\n",
       "      <th>179</th>\n",
       "      <td>False</td>\n",
       "      <td>False</td>\n",
       "      <td>True</td>\n",
       "      <td>False</td>\n",
       "      <td>True</td>\n",
       "      <td>True</td>\n",
       "    </tr>\n",
       "    <tr>\n",
       "      <th>180</th>\n",
       "      <td>False</td>\n",
       "      <td>False</td>\n",
       "      <td>False</td>\n",
       "      <td>False</td>\n",
       "      <td>True</td>\n",
       "      <td>True</td>\n",
       "    </tr>\n",
       "    <tr>\n",
       "      <th>181</th>\n",
       "      <td>False</td>\n",
       "      <td>False</td>\n",
       "      <td>True</td>\n",
       "      <td>False</td>\n",
       "      <td>True</td>\n",
       "      <td>True</td>\n",
       "    </tr>\n",
       "    <tr>\n",
       "      <th>182</th>\n",
       "      <td>False</td>\n",
       "      <td>False</td>\n",
       "      <td>True</td>\n",
       "      <td>False</td>\n",
       "      <td>True</td>\n",
       "      <td>True</td>\n",
       "    </tr>\n",
       "  </tbody>\n",
       "</table>\n",
       "<p>183 rows × 6 columns</p>\n",
       "</div>"
      ],
      "text/plain": [
       "     FULL NAME  First Name  Middle Name  Last Name  Education  Occupation\n",
       "0        False       False        False      False       True        True\n",
       "1        False       False        False      False       True        True\n",
       "2        False       False        False      False       True        True\n",
       "3        False       False         True      False       True        True\n",
       "4        False       False        False      False       True        True\n",
       "..         ...         ...          ...        ...        ...         ...\n",
       "178      False       False         True      False       True        True\n",
       "179      False       False         True      False       True        True\n",
       "180      False       False        False      False       True        True\n",
       "181      False       False         True      False       True        True\n",
       "182      False       False         True      False       True        True\n",
       "\n",
       "[183 rows x 6 columns]"
      ]
     },
     "execution_count": 7,
     "metadata": {},
     "output_type": "execute_result"
    }
   ],
   "source": [
    "#detemrnine how many cells or points within the array is empty\n",
    "friend.isnull()"
   ]
  },
  {
   "attachments": {},
   "cell_type": "markdown",
   "metadata": {},
   "source": [
    "After determining the missing information, we will only collect information in a seperate variable that only has all true. We will utilize the dropna() method that will drop any row that has one missing element"
   ]
  },
  {
   "cell_type": "code",
   "execution_count": 8,
   "metadata": {},
   "outputs": [
    {
     "name": "stdout",
     "output_type": "stream",
     "text": [
      "<class 'pandas.core.frame.DataFrame'>\n",
      "Int64Index: 0 entries\n",
      "Data columns (total 6 columns):\n",
      " #   Column       Non-Null Count  Dtype  \n",
      "---  ------       --------------  -----  \n",
      " 0   FULL NAME    0 non-null      object \n",
      " 1   First Name   0 non-null      object \n",
      " 2   Middle Name  0 non-null      object \n",
      " 3   Last Name    0 non-null      object \n",
      " 4   Education    0 non-null      float64\n",
      " 5   Occupation   0 non-null      float64\n",
      "dtypes: float64(2), object(4)\n",
      "memory usage: 0.0+ bytes\n"
     ]
    }
   ],
   "source": [
    "#dropping all the rows with empty informaiton, storing into another variable\n",
    "friendC = friend.dropna()\n",
    "\n",
    "#describe the new variable\n",
    "friendC.info()"
   ]
  },
  {
   "attachments": {},
   "cell_type": "markdown",
   "metadata": {},
   "source": [
    "# Modifying existing Database\n",
    "Edit the database to be able to better organize the collection"
   ]
  },
  {
   "cell_type": "code",
   "execution_count": 9,
   "metadata": {},
   "outputs": [],
   "source": [
    "#open workbook to work on\n",
    "ws = openpyxl.load_workbook(\"./FEDtemp.xlsx\")\n",
    "\n",
    "# Get the sheet that contains the names\n",
    "sheet = ws[\"Sheet1\"]"
   ]
  },
  {
   "attachments": {},
   "cell_type": "markdown",
   "metadata": {},
   "source": [
    "One of the issues of the original created worksheets had a sheet in which the columns contained both first name, middle name, and last name. The names were seperated by spaces so we will utilize the split() method in order to seperate the string in the cell."
   ]
  },
  {
   "cell_type": "code",
   "execution_count": 10,
   "metadata": {},
   "outputs": [],
   "source": [
    "# Iterate over the rows in the sheet\n",
    "for row in sheet.iter_rows(min_row=2, max_col=1):\n",
    "    if isinstance(row[0].value, str):\n",
    "        # Split the name into a list\n",
    "        name_list = row[0].value.split()\n",
    "\n",
    "        # Validate that the name has at least a first and last name\n",
    "        if len(name_list) < 2:\n",
    "            # Skip the row if the name is invalid\n",
    "            continue\n",
    "\n",
    "        # Get the first and last name\n",
    "        first_name = name_list[0]\n",
    "        last_name = name_list[-1]\n",
    "\n",
    "        # Get the middle name if it exists\n",
    "        middle_name = \"\"\n",
    "        if len(name_list) > 2:\n",
    "            middle_name = \" \".join(name_list[1:-1])\n",
    "\n",
    "        # Write the first, middle, and last name to the sheet\n",
    "        sheet.cell(row=row[0].row, column=2).value = first_name\n",
    "        sheet.cell(row=row[0].row, column=3).value = middle_name\n",
    "        sheet.cell(row=row[0].row, column=4).value = last_name\n",
    "    else:\n",
    "        #skip the row if the cell value is not a string\n",
    "        continue"
   ]
  },
  {
   "attachments": {},
   "cell_type": "markdown",
   "metadata": {},
   "source": [
    "Insert new columns to the worksheet: the colums that need to be made to provide more data about each individual role."
   ]
  },
  {
   "cell_type": "code",
   "execution_count": 11,
   "metadata": {},
   "outputs": [],
   "source": [
    "#renaming columns name for first name, middle name, last name\n",
    "sheet.cell(row=1,column=2).value = \"First Name\"\n",
    "sheet.cell(row=1,column=3).value = \"Middle Name\"\n",
    "sheet.cell(row=1, column=4).value = \"Last Name\"\n",
    "\n",
    "#get the number of columns in the sheet\n",
    "col = sheet.max_column\n",
    "\n",
    "#inserting columns and with field names at the end\n",
    "sheet.insert_cols(col + 1)\n",
    "\n",
    "#add the name to the newly created header\n",
    "sheet.cell(row = 1, column = col+1).value = \"Occupation\"\n",
    "\n",
    "#appending another column\n",
    "sheet.insert_cols(col+1)\n",
    "\n",
    "#add new name to the appended column\n",
    "sheet.cell(row=1, column=col+1).value = \"Education\""
   ]
  },
  {
   "attachments": {},
   "cell_type": "markdown",
   "metadata": {},
   "source": [
    "Saving the workbook so that changes are going to be made."
   ]
  },
  {
   "cell_type": "code",
   "execution_count": 12,
   "metadata": {},
   "outputs": [],
   "source": [
    "#save the workbook and overwrite\n",
    "ws.save(\"FEDtemp.xlsx\")"
   ]
  }
 ],
 "metadata": {
  "kernelspec": {
   "display_name": "Python 3",
   "language": "python",
   "name": "python3"
  },
  "language_info": {
   "codemirror_mode": {
    "name": "ipython",
    "version": 3
   },
   "file_extension": ".py",
   "mimetype": "text/x-python",
   "name": "python",
   "nbconvert_exporter": "python",
   "pygments_lexer": "ipython3",
   "version": "3.10.9"
  },
  "orig_nbformat": 4,
  "vscode": {
   "interpreter": {
    "hash": "4e65502465e01c27b9f5ad38809bf4a4029c2862aecd3f89bf9e4ab72d51e36d"
   }
  }
 },
 "nbformat": 4,
 "nbformat_minor": 2
}
