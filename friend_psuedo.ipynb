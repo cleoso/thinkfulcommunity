{
 "cells": [
  {
   "attachments": {},
   "cell_type": "markdown",
   "metadata": {},
   "source": [
    "# Form application \n",
    "Using python that utilizes the PyQt GUI library and the create console-based form. The form will collect the following information and is due to change:\n",
    "Full Name\n",
    "Date of Birth\n",
    "Affiliation\n",
    "Occupation\n",
    "Phone\n",
    "Education"
   ]
  },
  {
   "attachments": {},
   "cell_type": "markdown",
   "metadata": {},
   "source": [
    "# imports"
   ]
  },
  {
   "cell_type": "code",
   "execution_count": 5,
   "metadata": {},
   "outputs": [],
   "source": [
    "import wx"
   ]
  },
  {
   "cell_type": "code",
   "execution_count": 4,
   "metadata": {},
   "outputs": [],
   "source": [
    "import wx\n",
    "\n",
    "\n",
    "class MyForm(wx.Frame):\n",
    "    def __init__(self):\n",
    "        # Create the form\n",
    "        wx.Frame.__init__(self, None, title=\"User Form\")\n",
    "\n",
    "        # Create the panel\n",
    "        panel = wx.Panel(self)\n",
    "\n",
    "        # Create the widgets\n",
    "        self.name_label = wx.StaticText(panel, label=\"Name:\")\n",
    "        self.name_text = wx.TextCtrl(panel)\n",
    "        self.dob_label = wx.StaticText(panel, label=\"Date of Birth:\")\n",
    "        self.dob_text = wx.TextCtrl(panel)\n",
    "        self.phone_label = wx.StaticText(panel, label=\"Phone:\")\n",
    "        self.phone_text = wx.TextCtrl(panel)\n",
    "        self.address_label = wx.StaticText(panel, label=\"Address:\")\n",
    "        self.address_text = wx.TextCtrl(panel, style=wx.TE_MULTILINE)\n",
    "        self.submit_button = wx.Button(panel, label=\"Submit\")\n",
    "\n",
    "        # Create the sizers\n",
    "        main_sizer = wx.BoxSizer(wx.VERTICAL)\n",
    "        name_sizer = wx.BoxSizer(wx.HORIZONTAL)\n",
    "        dob_sizer = wx.BoxSizer(wx.HORIZONTAL)\n",
    "        phone_sizer = wx.BoxSizer(wx.HORIZONTAL)\n",
    "        address_sizer = wx.BoxSizer(wx.HORIZONTAL)\n",
    "\n",
    "        # Add the widgets to the sizers\n",
    "        name_sizer.Add(self.name_label, 0, wx.ALL, 5)\n"
   ]
  }
 ],
 "metadata": {
  "kernelspec": {
   "display_name": "Python 3",
   "language": "python",
   "name": "python3"
  },
  "language_info": {
   "codemirror_mode": {
    "name": "ipython",
    "version": 3
   },
   "file_extension": ".py",
   "mimetype": "text/x-python",
   "name": "python",
   "nbconvert_exporter": "python",
   "pygments_lexer": "ipython3",
   "version": "3.10.9"
  },
  "orig_nbformat": 4,
  "vscode": {
   "interpreter": {
    "hash": "4e65502465e01c27b9f5ad38809bf4a4029c2862aecd3f89bf9e4ab72d51e36d"
   }
  }
 },
 "nbformat": 4,
 "nbformat_minor": 2
}
