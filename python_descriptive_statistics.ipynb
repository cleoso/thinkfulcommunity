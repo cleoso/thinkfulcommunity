{
 "cells": [
  {
   "cell_type": "markdown",
   "metadata": {
    "colab_type": "text",
    "id": "6GnuKOJC3f_1"
   },
   "source": [
    "## Load the data\n",
    "\n",
    "To begin, load up some data from a database into a DataFrame."
   ]
  },
  {
   "cell_type": "code",
   "execution_count": 1,
   "metadata": {
    "colab": {},
    "colab_type": "code",
    "id": "A2M7-UiHfGw_"
   },
   "outputs": [],
   "source": [
    "# To keep the page organized, do all imports here\n",
    "from sqlalchemy import create_engine\n",
    "import pandas as pd\n",
    "from scipy import stats\n"
   ]
  },
  {
   "cell_type": "code",
   "execution_count": 2,
   "metadata": {
    "colab": {
     "base_uri": "https://localhost:8080/",
     "height": 71
    },
    "colab_type": "code",
    "id": "RXG2KNWj3agD",
    "outputId": "a7eaff79-9d64-451f-d4cc-0e4d0e80f895"
   },
   "outputs": [],
   "source": [
    "# Database credentials\n",
    "postgres_user = 'dabc_student'\n",
    "postgres_pw = '7*.8G9QH21'\n",
    "postgres_host = '142.93.121.174'\n",
    "postgres_port = '5432'\n",
    "postgres_db = 'kickstarterprojects'\n",
    "\n",
    "# Use the credentials to start a connection\n",
    "engine = create_engine('postgresql://{}:{}@{}:{}/{}'.format(\n",
    "    postgres_user, postgres_pw, postgres_host, postgres_port, postgres_db))"
   ]
  },
  {
   "cell_type": "code",
   "execution_count": 3,
   "metadata": {
    "colab": {},
    "colab_type": "code",
    "id": "raI5lFbIfFHr"
   },
   "outputs": [],
   "source": [
    "projects_df = pd.read_sql_table('ksprojects', con=engine)\n",
    "\n",
    "# Remove the connection\n",
    "engine.dispose()"
   ]
  },
  {
   "cell_type": "markdown",
   "metadata": {
    "colab_type": "text",
    "id": "2u2Emfy4fmKs"
   },
   "source": [
    "Now, quickly examine your DataFrame."
   ]
  },
  {
   "cell_type": "code",
   "execution_count": 4,
   "metadata": {
    "colab": {
     "base_uri": "https://localhost:8080/",
     "height": 34
    },
    "colab_type": "code",
    "id": "jM8Z-HVAftNr",
    "outputId": "d64576ad-f7f5-4517-ad53-b342b716d76d"
   },
   "outputs": [
    {
     "data": {
      "text/plain": [
       "(65418, 13)"
      ]
     },
     "execution_count": 4,
     "metadata": {},
     "output_type": "execute_result"
    }
   ],
   "source": [
    "projects_df.shape"
   ]
  },
  {
   "cell_type": "code",
   "execution_count": 5,
   "metadata": {
    "colab": {
     "base_uri": "https://localhost:8080/",
     "height": 323
    },
    "colab_type": "code",
    "id": "Gnb7aG8ifwqN",
    "outputId": "1ddb2098-601e-4a81-c98d-b7261c4c925e"
   },
   "outputs": [
    {
     "name": "stdout",
     "output_type": "stream",
     "text": [
      "<class 'pandas.core.frame.DataFrame'>\n",
      "RangeIndex: 65418 entries, 0 to 65417\n",
      "Data columns (total 13 columns):\n",
      "id               65418 non-null int64\n",
      "name             65418 non-null object\n",
      "category         65418 non-null object\n",
      "main_category    65418 non-null object\n",
      "deadline         65418 non-null datetime64[ns]\n",
      "goal             65418 non-null float64\n",
      "launched         65418 non-null datetime64[ns]\n",
      "state            65418 non-null object\n",
      "backers          65418 non-null int64\n",
      "country          65418 non-null object\n",
      "usd_pledged      64673 non-null float64\n",
      "currency         65418 non-null object\n",
      "pledged          65418 non-null float64\n",
      "dtypes: datetime64[ns](2), float64(3), int64(2), object(6)\n",
      "memory usage: 6.5+ MB\n"
     ]
    }
   ],
   "source": [
    "projects_df.info()"
   ]
  },
  {
   "cell_type": "markdown",
   "metadata": {
    "colab_type": "text",
    "id": "kk_xBp3AgSDa"
   },
   "source": [
    "You can see that there are several numeric columns and a couple of date columns. There's also some categorical data. Most importantly, though, there are no nulls in any columns except *usd_pledged*. Notice that each column has 65,418 values, except *usd_pledged*, which has 64,673 values. If you are going to use that column in your analysis, you'll need to deal with those nulls.  \n",
    "\n"
   ]
  },
  {
   "cell_type": "code",
   "execution_count": 6,
   "metadata": {
    "colab": {
     "base_uri": "https://localhost:8080/",
     "height": 306
    },
    "colab_type": "code",
    "id": "UYfeOigTgtEo",
    "outputId": "a809ff58-6286-4d2c-d404-e7e2db4624f0"
   },
   "outputs": [
    {
     "data": {
      "text/html": [
       "<div>\n",
       "<style scoped>\n",
       "    .dataframe tbody tr th:only-of-type {\n",
       "        vertical-align: middle;\n",
       "    }\n",
       "\n",
       "    .dataframe tbody tr th {\n",
       "        vertical-align: top;\n",
       "    }\n",
       "\n",
       "    .dataframe thead th {\n",
       "        text-align: right;\n",
       "    }\n",
       "</style>\n",
       "<table border=\"1\" class=\"dataframe\">\n",
       "  <thead>\n",
       "    <tr style=\"text-align: right;\">\n",
       "      <th></th>\n",
       "      <th>id</th>\n",
       "      <th>name</th>\n",
       "      <th>category</th>\n",
       "      <th>main_category</th>\n",
       "      <th>deadline</th>\n",
       "      <th>goal</th>\n",
       "      <th>launched</th>\n",
       "      <th>state</th>\n",
       "      <th>backers</th>\n",
       "      <th>country</th>\n",
       "      <th>usd_pledged</th>\n",
       "      <th>currency</th>\n",
       "      <th>pledged</th>\n",
       "    </tr>\n",
       "  </thead>\n",
       "  <tbody>\n",
       "    <tr>\n",
       "      <th>0</th>\n",
       "      <td>1147015301</td>\n",
       "      <td>\"All We Had\" Gets Into Cannes -- $10 or More G...</td>\n",
       "      <td>Documentary</td>\n",
       "      <td>Film &amp; Video</td>\n",
       "      <td>2009-05-20 21:50:00</td>\n",
       "      <td>300.0</td>\n",
       "      <td>2009-04-30 22:10:30</td>\n",
       "      <td>failed</td>\n",
       "      <td>4</td>\n",
       "      <td>US</td>\n",
       "      <td>40.00</td>\n",
       "      <td>USD</td>\n",
       "      <td>40.00</td>\n",
       "    </tr>\n",
       "    <tr>\n",
       "      <th>1</th>\n",
       "      <td>1100844465</td>\n",
       "      <td>daily digest</td>\n",
       "      <td>Documentary</td>\n",
       "      <td>Film &amp; Video</td>\n",
       "      <td>2009-06-01 02:20:00</td>\n",
       "      <td>700.0</td>\n",
       "      <td>2009-05-04 21:14:28</td>\n",
       "      <td>successful</td>\n",
       "      <td>14</td>\n",
       "      <td>US</td>\n",
       "      <td>700.00</td>\n",
       "      <td>USD</td>\n",
       "      <td>700.00</td>\n",
       "    </tr>\n",
       "    <tr>\n",
       "      <th>2</th>\n",
       "      <td>1316334968</td>\n",
       "      <td>Drive A Faster Car 2.0</td>\n",
       "      <td>Nonfiction</td>\n",
       "      <td>Publishing</td>\n",
       "      <td>2009-06-04 06:00:00</td>\n",
       "      <td>1000.0</td>\n",
       "      <td>2009-05-04 22:51:31</td>\n",
       "      <td>successful</td>\n",
       "      <td>32</td>\n",
       "      <td>US</td>\n",
       "      <td>1367.00</td>\n",
       "      <td>USD</td>\n",
       "      <td>1367.00</td>\n",
       "    </tr>\n",
       "    <tr>\n",
       "      <th>3</th>\n",
       "      <td>1304906577</td>\n",
       "      <td>Accidental to Edinburgh - PHASE 1: AIRFARE</td>\n",
       "      <td>Theater</td>\n",
       "      <td>Theater</td>\n",
       "      <td>2009-06-05 05:59:00</td>\n",
       "      <td>6000.0</td>\n",
       "      <td>2009-04-30 22:22:43</td>\n",
       "      <td>successful</td>\n",
       "      <td>24</td>\n",
       "      <td>US</td>\n",
       "      <td>6575.00</td>\n",
       "      <td>USD</td>\n",
       "      <td>6575.00</td>\n",
       "    </tr>\n",
       "    <tr>\n",
       "      <th>4</th>\n",
       "      <td>1099226462</td>\n",
       "      <td>Logical Guess Pictures' 2nd Horror Movie!</td>\n",
       "      <td>Film &amp; Video</td>\n",
       "      <td>Film &amp; Video</td>\n",
       "      <td>2009-06-06 00:45:00</td>\n",
       "      <td>500.0</td>\n",
       "      <td>2009-04-30 01:32:55</td>\n",
       "      <td>successful</td>\n",
       "      <td>22</td>\n",
       "      <td>US</td>\n",
       "      <td>501.66</td>\n",
       "      <td>USD</td>\n",
       "      <td>501.66</td>\n",
       "    </tr>\n",
       "  </tbody>\n",
       "</table>\n",
       "</div>"
      ],
      "text/plain": [
       "           id                                               name  \\\n",
       "0  1147015301  \"All We Had\" Gets Into Cannes -- $10 or More G...   \n",
       "1  1100844465                                       daily digest   \n",
       "2  1316334968                             Drive A Faster Car 2.0   \n",
       "3  1304906577         Accidental to Edinburgh - PHASE 1: AIRFARE   \n",
       "4  1099226462          Logical Guess Pictures' 2nd Horror Movie!   \n",
       "\n",
       "       category main_category            deadline    goal            launched  \\\n",
       "0   Documentary  Film & Video 2009-05-20 21:50:00   300.0 2009-04-30 22:10:30   \n",
       "1   Documentary  Film & Video 2009-06-01 02:20:00   700.0 2009-05-04 21:14:28   \n",
       "2    Nonfiction    Publishing 2009-06-04 06:00:00  1000.0 2009-05-04 22:51:31   \n",
       "3       Theater       Theater 2009-06-05 05:59:00  6000.0 2009-04-30 22:22:43   \n",
       "4  Film & Video  Film & Video 2009-06-06 00:45:00   500.0 2009-04-30 01:32:55   \n",
       "\n",
       "        state  backers country  usd_pledged currency  pledged  \n",
       "0      failed        4      US        40.00      USD    40.00  \n",
       "1  successful       14      US       700.00      USD   700.00  \n",
       "2  successful       32      US      1367.00      USD  1367.00  \n",
       "3  successful       24      US      6575.00      USD  6575.00  \n",
       "4  successful       22      US       501.66      USD   501.66  "
      ]
     },
     "execution_count": 6,
     "metadata": {},
     "output_type": "execute_result"
    }
   ],
   "source": [
    "projects_df.head()"
   ]
  },
  {
   "cell_type": "markdown",
   "metadata": {
    "colab_type": "text",
    "id": "x3zFHFuNhXv8"
   },
   "source": [
    "Before you move on, it would be interesting to find out how many different categories exist. There are a few ways to do this."
   ]
  },
  {
   "cell_type": "code",
   "execution_count": 7,
   "metadata": {
    "colab": {
     "base_uri": "https://localhost:8080/",
     "height": 34
    },
    "colab_type": "code",
    "id": "ORncu8jAiL5Z",
    "outputId": "43e55ca6-31bd-4470-dffb-c67d0f2661d1"
   },
   "outputs": [
    {
     "data": {
      "text/plain": [
       "158"
      ]
     },
     "execution_count": 7,
     "metadata": {},
     "output_type": "execute_result"
    }
   ],
   "source": [
    "# Count the number of unique values in this column\n",
    "projects_df['category'].nunique()"
   ]
  },
  {
   "cell_type": "code",
   "execution_count": 8,
   "metadata": {
    "colab": {
     "base_uri": "https://localhost:8080/",
     "height": 204
    },
    "colab_type": "code",
    "id": "P1DfsKf0iXtb",
    "outputId": "7c089eee-1a79-45e3-edce-c1f2a1026d31"
   },
   "outputs": [
    {
     "data": {
      "text/plain": [
       "Product Design    3444\n",
       "Documentary       2969\n",
       "Music             2740\n",
       "Shorts            2407\n",
       "Tabletop Games    2208\n",
       "Food              2126\n",
       "Video Games       2011\n",
       "Film & Video      1828\n",
       "Fiction           1670\n",
       "Fashion           1584\n",
       "Name: category, dtype: int64"
      ]
     },
     "execution_count": 8,
     "metadata": {},
     "output_type": "execute_result"
    }
   ],
   "source": [
    "# Find the frequency of each value in the column\n",
    "category_counts = projects_df['category'].value_counts()\n",
    "\n",
    "# Only print the first 10, because 158 is too many to print\n",
    "category_counts.head(10)"
   ]
  },
  {
   "cell_type": "markdown",
   "metadata": {
    "colab_type": "text",
    "id": "Aq3FD9YPjASG"
   },
   "source": [
    "Do the same for the *main_category* column."
   ]
  },
  {
   "cell_type": "code",
   "execution_count": 9,
   "metadata": {
    "colab": {
     "base_uri": "https://localhost:8080/",
     "height": 34
    },
    "colab_type": "code",
    "id": "XXtvfjdtjQ5g",
    "outputId": "cde5cd89-7579-4c2b-eeb8-dfc851c0845c"
   },
   "outputs": [
    {
     "data": {
      "text/plain": [
       "15"
      ]
     },
     "execution_count": 9,
     "metadata": {},
     "output_type": "execute_result"
    }
   ],
   "source": [
    "projects_df['main_category'].nunique()"
   ]
  },
  {
   "cell_type": "code",
   "execution_count": 10,
   "metadata": {
    "colab": {
     "base_uri": "https://localhost:8080/",
     "height": 289
    },
    "colab_type": "code",
    "id": "akJWmvGEjE_V",
    "outputId": "090b7be8-492d-41c1-b150-8fb5f7128325"
   },
   "outputs": [
    {
     "data": {
      "text/plain": [
       "Film & Video    11666\n",
       "Music            9395\n",
       "Publishing       6901\n",
       "Games            5739\n",
       "Technology       5328\n",
       "Art              4843\n",
       "Design           4798\n",
       "Food             4343\n",
       "Fashion          3700\n",
       "Theater          2015\n",
       "Photography      1933\n",
       "Comics           1791\n",
       "Crafts           1474\n",
       "Journalism        811\n",
       "Dance             681\n",
       "Name: main_category, dtype: int64"
      ]
     },
     "execution_count": 10,
     "metadata": {},
     "output_type": "execute_result"
    }
   ],
   "source": [
    "main_category_counts = projects_df['main_category'].value_counts()\n",
    "\n",
    "# There are only 15 main categories, so print them all.\n",
    "main_category_counts"
   ]
  },
  {
   "cell_type": "markdown",
   "metadata": {
    "colab_type": "text",
    "id": "yXvBUEaFjhzl"
   },
   "source": [
    "The *state*, *currency*, and *country* columns also look like they have categorical data. See if there's anything interesting going on there."
   ]
  },
  {
   "cell_type": "code",
   "execution_count": 11,
   "metadata": {
    "colab": {
     "base_uri": "https://localhost:8080/",
     "height": 34
    },
    "colab_type": "code",
    "id": "7Uauh-ZbjwtC",
    "outputId": "e3eb1f5b-2c0b-419f-ae95-ab9c57ff6de8"
   },
   "outputs": [
    {
     "data": {
      "text/plain": [
       "22"
      ]
     },
     "execution_count": 11,
     "metadata": {},
     "output_type": "execute_result"
    }
   ],
   "source": [
    "# How many countries?\n",
    "projects_df['country'].nunique()"
   ]
  },
  {
   "cell_type": "code",
   "execution_count": 12,
   "metadata": {
    "colab": {
     "base_uri": "https://localhost:8080/",
     "height": 408
    },
    "colab_type": "code",
    "id": "6Ag293Rgj43h",
    "outputId": "1e0d883a-5dbd-467f-e3cc-0907148110e7"
   },
   "outputs": [
    {
     "data": {
      "text/plain": [
       "US      52071\n",
       "GB       5617\n",
       "CA       2404\n",
       "AU       1258\n",
       "N,\"0      744\n",
       "DE        538\n",
       "NL        457\n",
       "FR        397\n",
       "IT        374\n",
       "ES        294\n",
       "SE        267\n",
       "NZ        236\n",
       "DK        157\n",
       "NO        120\n",
       "IE         99\n",
       "AT         98\n",
       "BE         90\n",
       "CH         88\n",
       "MX         43\n",
       "SG         29\n",
       "HK         26\n",
       "LU         11\n",
       "Name: country, dtype: int64"
      ]
     },
     "execution_count": 12,
     "metadata": {},
     "output_type": "execute_result"
    }
   ],
   "source": [
    "# How are the projects distributed over the countries?\n",
    "country_counts = projects_df['country'].value_counts()\n",
    "country_counts"
   ]
  },
  {
   "cell_type": "markdown",
   "metadata": {
    "colab_type": "text",
    "id": "0SL0Dr27kVB1"
   },
   "source": [
    "So although the majority of projects are from the US, there are many other countries represented. Now, examine the currency."
   ]
  },
  {
   "cell_type": "code",
   "execution_count": 13,
   "metadata": {
    "colab": {
     "base_uri": "https://localhost:8080/",
     "height": 34
    },
    "colab_type": "code",
    "id": "7a0umqcwkgcb",
    "outputId": "c7c567d1-c67c-411f-84ae-2d6421643347"
   },
   "outputs": [
    {
     "data": {
      "text/plain": [
       "13"
      ]
     },
     "execution_count": 13,
     "metadata": {},
     "output_type": "execute_result"
    }
   ],
   "source": [
    "projects_df['currency'].nunique()"
   ]
  },
  {
   "cell_type": "code",
   "execution_count": 14,
   "metadata": {
    "colab": {
     "base_uri": "https://localhost:8080/",
     "height": 255
    },
    "colab_type": "code",
    "id": "Sy_TxE6YknaL",
    "outputId": "00460e31-d60e-4189-a299-d69341e9ab9b"
   },
   "outputs": [
    {
     "data": {
      "text/plain": [
       "USD    52597\n",
       "GBP     5722\n",
       "CAD     2445\n",
       "EUR     2399\n",
       "AUD     1271\n",
       "SEK      271\n",
       "NZD      241\n",
       "DKK      163\n",
       "NOK      123\n",
       "CHF       88\n",
       "MXN       43\n",
       "SGD       29\n",
       "HKD       26\n",
       "Name: currency, dtype: int64"
      ]
     },
     "execution_count": 14,
     "metadata": {},
     "output_type": "execute_result"
    }
   ],
   "source": [
    "currency_counts = projects_df['currency'].value_counts()\n",
    "currency_counts"
   ]
  },
  {
   "cell_type": "markdown",
   "metadata": {
    "colab_type": "text",
    "id": "q4bAAZ3wkwWe"
   },
   "source": [
    "As expected, most projects use US dollars. However, many others use a different currency. This is an important discovery. Before you do any sort of analysis on money, you need to ensure that you are working with the same currency. Trying to find the mean would be meaningless if the amounts are in different currencies. The *usd_pledged* column is the amount of money pledged converted to USD, but the *pledged* and *goal* columns are in the specified currency. Before you solve that problem, see how many different states are in the *state* column.\n"
   ]
  },
  {
   "cell_type": "code",
   "execution_count": 15,
   "metadata": {
    "colab": {
     "base_uri": "https://localhost:8080/",
     "height": 34
    },
    "colab_type": "code",
    "id": "4npwMwf_l-0I",
    "outputId": "fcf429b2-4098-4b15-cfd4-0e4d31eb9125"
   },
   "outputs": [
    {
     "data": {
      "text/plain": [
       "6"
      ]
     },
     "execution_count": 15,
     "metadata": {},
     "output_type": "execute_result"
    }
   ],
   "source": [
    "projects_df['state'].nunique()"
   ]
  },
  {
   "cell_type": "code",
   "execution_count": 16,
   "metadata": {
    "colab": {
     "base_uri": "https://localhost:8080/",
     "height": 136
    },
    "colab_type": "code",
    "id": "AopCyh7zmMVe",
    "outputId": "8412e157-6ecb-4800-d79d-85bf423a596f"
   },
   "outputs": [
    {
     "data": {
      "text/plain": [
       "failed        33922\n",
       "successful    23125\n",
       "canceled       6427\n",
       "live            938\n",
       "undefined       695\n",
       "suspended       311\n",
       "Name: state, dtype: int64"
      ]
     },
     "execution_count": 16,
     "metadata": {},
     "output_type": "execute_result"
    }
   ],
   "source": [
    "state_counts = projects_df['state'].value_counts()\n",
    "state_counts"
   ]
  },
  {
   "cell_type": "markdown",
   "metadata": {
    "colab_type": "text",
    "id": "j6qH2KQDBxNz"
   },
   "source": [
    "## Handling nulls\n",
    "\n",
    "Earlier, you saw that one of the columns has some null values. If that column is significant to your analysis, then you need to do something about those null values. There are several options:\n",
    "\n",
    " - Set a default value\n",
    " - Try to \"guess\" an appropriate value\n",
    " - Delete the rows altogether\n",
    " \n",
    "Of course, the choice depends on the data and the type of analysis that you wish to perform. In this example, the nulls occur in the *usd_pledged* column. It might help if you looked at those rows and see what that data looks like.\n",
    " \n",
    "Pandas has a built-in `isnull()` method to help find nulls across all columns in the DataFrame."
   ]
  },
  {
   "cell_type": "code",
   "execution_count": 17,
   "metadata": {
    "colab": {
     "base_uri": "https://localhost:8080/",
     "height": 597
    },
    "colab_type": "code",
    "id": "xZ0ui77Cml9W",
    "outputId": "fb0f66ff-3783-4676-d7e1-c27947e400b7"
   },
   "outputs": [
    {
     "data": {
      "text/html": [
       "<div>\n",
       "<style scoped>\n",
       "    .dataframe tbody tr th:only-of-type {\n",
       "        vertical-align: middle;\n",
       "    }\n",
       "\n",
       "    .dataframe tbody tr th {\n",
       "        vertical-align: top;\n",
       "    }\n",
       "\n",
       "    .dataframe thead th {\n",
       "        text-align: right;\n",
       "    }\n",
       "</style>\n",
       "<table border=\"1\" class=\"dataframe\">\n",
       "  <thead>\n",
       "    <tr style=\"text-align: right;\">\n",
       "      <th></th>\n",
       "      <th>id</th>\n",
       "      <th>name</th>\n",
       "      <th>category</th>\n",
       "      <th>main_category</th>\n",
       "      <th>deadline</th>\n",
       "      <th>goal</th>\n",
       "      <th>launched</th>\n",
       "      <th>state</th>\n",
       "      <th>backers</th>\n",
       "      <th>country</th>\n",
       "      <th>usd_pledged</th>\n",
       "      <th>currency</th>\n",
       "      <th>pledged</th>\n",
       "    </tr>\n",
       "  </thead>\n",
       "  <tbody>\n",
       "    <tr>\n",
       "      <th>9490</th>\n",
       "      <td>1189637889</td>\n",
       "      <td>\"Natural Born Hooker\"</td>\n",
       "      <td>Theater</td>\n",
       "      <td>Theater</td>\n",
       "      <td>2012-04-24 08:59:00</td>\n",
       "      <td>25000.0</td>\n",
       "      <td>2012-03-14 19:05:44</td>\n",
       "      <td>undefined</td>\n",
       "      <td>0</td>\n",
       "      <td>N,\"0</td>\n",
       "      <td>NaN</td>\n",
       "      <td>USD</td>\n",
       "      <td>2621.00</td>\n",
       "    </tr>\n",
       "    <tr>\n",
       "      <th>15111</th>\n",
       "      <td>1244477824</td>\n",
       "      <td>Statpedia - The Collaborative Search Engine fo...</td>\n",
       "      <td>Software</td>\n",
       "      <td>Technology</td>\n",
       "      <td>2012-12-14 10:48:14</td>\n",
       "      <td>500.0</td>\n",
       "      <td>2012-11-14 10:48:14</td>\n",
       "      <td>undefined</td>\n",
       "      <td>0</td>\n",
       "      <td>N,\"0</td>\n",
       "      <td>NaN</td>\n",
       "      <td>USD</td>\n",
       "      <td>500.00</td>\n",
       "    </tr>\n",
       "    <tr>\n",
       "      <th>17484</th>\n",
       "      <td>1084993156</td>\n",
       "      <td>Willy Tea, Chris Doud and Chums: The Children'...</td>\n",
       "      <td>Music</td>\n",
       "      <td>Music</td>\n",
       "      <td>2013-04-09 06:06:11</td>\n",
       "      <td>3750.0</td>\n",
       "      <td>2013-03-26 05:06:11</td>\n",
       "      <td>successful</td>\n",
       "      <td>0</td>\n",
       "      <td>N,\"0</td>\n",
       "      <td>NaN</td>\n",
       "      <td>USD</td>\n",
       "      <td>4593.00</td>\n",
       "    </tr>\n",
       "    <tr>\n",
       "      <th>17532</th>\n",
       "      <td>1379649454</td>\n",
       "      <td>Juiette Z. Payne presents debut EP \"Eternal Da...</td>\n",
       "      <td>Music</td>\n",
       "      <td>Music</td>\n",
       "      <td>2013-04-11 15:50:25</td>\n",
       "      <td>5000.0</td>\n",
       "      <td>2013-03-02 15:50:25</td>\n",
       "      <td>successful</td>\n",
       "      <td>0</td>\n",
       "      <td>N,\"0</td>\n",
       "      <td>NaN</td>\n",
       "      <td>USD</td>\n",
       "      <td>5250.00</td>\n",
       "    </tr>\n",
       "    <tr>\n",
       "      <th>27334</th>\n",
       "      <td>1349042579</td>\n",
       "      <td>O'Films Production Launch!</td>\n",
       "      <td>Film &amp; Video</td>\n",
       "      <td>Film &amp; Video</td>\n",
       "      <td>2014-04-30 02:58:25</td>\n",
       "      <td>6000.0</td>\n",
       "      <td>2014-04-08 02:58:25</td>\n",
       "      <td>undefined</td>\n",
       "      <td>0</td>\n",
       "      <td>N,\"0</td>\n",
       "      <td>NaN</td>\n",
       "      <td>USD</td>\n",
       "      <td>6168.00</td>\n",
       "    </tr>\n",
       "    <tr>\n",
       "      <th>27443</th>\n",
       "      <td>1205956740</td>\n",
       "      <td>Short Film - \"The Man Who Choked\"</td>\n",
       "      <td>Film &amp; Video</td>\n",
       "      <td>Film &amp; Video</td>\n",
       "      <td>2014-05-02 12:47:00</td>\n",
       "      <td>1000.0</td>\n",
       "      <td>2014-04-16 13:21:21</td>\n",
       "      <td>undefined</td>\n",
       "      <td>0</td>\n",
       "      <td>N,\"0</td>\n",
       "      <td>NaN</td>\n",
       "      <td>GBP</td>\n",
       "      <td>1042.00</td>\n",
       "    </tr>\n",
       "    <tr>\n",
       "      <th>27522</th>\n",
       "      <td>1125500286</td>\n",
       "      <td>All About Amy</td>\n",
       "      <td>Film &amp; Video</td>\n",
       "      <td>Film &amp; Video</td>\n",
       "      <td>2014-05-04 17:41:13</td>\n",
       "      <td>3000.0</td>\n",
       "      <td>2014-04-04 17:41:13</td>\n",
       "      <td>undefined</td>\n",
       "      <td>0</td>\n",
       "      <td>N,\"0</td>\n",
       "      <td>NaN</td>\n",
       "      <td>USD</td>\n",
       "      <td>3225.00</td>\n",
       "    </tr>\n",
       "    <tr>\n",
       "      <th>27574</th>\n",
       "      <td>1292835145</td>\n",
       "      <td>WonderQuest ~ A Feature Length Music Film</td>\n",
       "      <td>Film &amp; Video</td>\n",
       "      <td>Film &amp; Video</td>\n",
       "      <td>2014-05-06 05:12:41</td>\n",
       "      <td>1111.0</td>\n",
       "      <td>2014-04-05 05:12:41</td>\n",
       "      <td>undefined</td>\n",
       "      <td>0</td>\n",
       "      <td>N,\"0</td>\n",
       "      <td>NaN</td>\n",
       "      <td>USD</td>\n",
       "      <td>3032.88</td>\n",
       "    </tr>\n",
       "    <tr>\n",
       "      <th>27602</th>\n",
       "      <td>1092574678</td>\n",
       "      <td>Pixelate Film Festival 2014</td>\n",
       "      <td>Film &amp; Video</td>\n",
       "      <td>Film &amp; Video</td>\n",
       "      <td>2014-05-07 13:37:16</td>\n",
       "      <td>1500.0</td>\n",
       "      <td>2014-04-09 13:37:16</td>\n",
       "      <td>undefined</td>\n",
       "      <td>0</td>\n",
       "      <td>N,\"0</td>\n",
       "      <td>NaN</td>\n",
       "      <td>GBP</td>\n",
       "      <td>1552.00</td>\n",
       "    </tr>\n",
       "    <tr>\n",
       "      <th>27755</th>\n",
       "      <td>1061706792</td>\n",
       "      <td>Zombie Shuffle feature film</td>\n",
       "      <td>Film &amp; Video</td>\n",
       "      <td>Film &amp; Video</td>\n",
       "      <td>2014-05-12 05:59:00</td>\n",
       "      <td>5000.0</td>\n",
       "      <td>2014-04-09 16:12:49</td>\n",
       "      <td>undefined</td>\n",
       "      <td>0</td>\n",
       "      <td>N,\"0</td>\n",
       "      <td>NaN</td>\n",
       "      <td>USD</td>\n",
       "      <td>5305.00</td>\n",
       "    </tr>\n",
       "  </tbody>\n",
       "</table>\n",
       "</div>"
      ],
      "text/plain": [
       "               id                                               name  \\\n",
       "9490   1189637889                              \"Natural Born Hooker\"   \n",
       "15111  1244477824  Statpedia - The Collaborative Search Engine fo...   \n",
       "17484  1084993156  Willy Tea, Chris Doud and Chums: The Children'...   \n",
       "17532  1379649454  Juiette Z. Payne presents debut EP \"Eternal Da...   \n",
       "27334  1349042579                         O'Films Production Launch!   \n",
       "27443  1205956740                  Short Film - \"The Man Who Choked\"   \n",
       "27522  1125500286                                      All About Amy   \n",
       "27574  1292835145          WonderQuest ~ A Feature Length Music Film   \n",
       "27602  1092574678                        Pixelate Film Festival 2014   \n",
       "27755  1061706792                        Zombie Shuffle feature film   \n",
       "\n",
       "           category main_category            deadline     goal  \\\n",
       "9490        Theater       Theater 2012-04-24 08:59:00  25000.0   \n",
       "15111      Software    Technology 2012-12-14 10:48:14    500.0   \n",
       "17484         Music         Music 2013-04-09 06:06:11   3750.0   \n",
       "17532         Music         Music 2013-04-11 15:50:25   5000.0   \n",
       "27334  Film & Video  Film & Video 2014-04-30 02:58:25   6000.0   \n",
       "27443  Film & Video  Film & Video 2014-05-02 12:47:00   1000.0   \n",
       "27522  Film & Video  Film & Video 2014-05-04 17:41:13   3000.0   \n",
       "27574  Film & Video  Film & Video 2014-05-06 05:12:41   1111.0   \n",
       "27602  Film & Video  Film & Video 2014-05-07 13:37:16   1500.0   \n",
       "27755  Film & Video  Film & Video 2014-05-12 05:59:00   5000.0   \n",
       "\n",
       "                 launched       state  backers country  usd_pledged currency  \\\n",
       "9490  2012-03-14 19:05:44   undefined        0    N,\"0          NaN      USD   \n",
       "15111 2012-11-14 10:48:14   undefined        0    N,\"0          NaN      USD   \n",
       "17484 2013-03-26 05:06:11  successful        0    N,\"0          NaN      USD   \n",
       "17532 2013-03-02 15:50:25  successful        0    N,\"0          NaN      USD   \n",
       "27334 2014-04-08 02:58:25   undefined        0    N,\"0          NaN      USD   \n",
       "27443 2014-04-16 13:21:21   undefined        0    N,\"0          NaN      GBP   \n",
       "27522 2014-04-04 17:41:13   undefined        0    N,\"0          NaN      USD   \n",
       "27574 2014-04-05 05:12:41   undefined        0    N,\"0          NaN      USD   \n",
       "27602 2014-04-09 13:37:16   undefined        0    N,\"0          NaN      GBP   \n",
       "27755 2014-04-09 16:12:49   undefined        0    N,\"0          NaN      USD   \n",
       "\n",
       "       pledged  \n",
       "9490   2621.00  \n",
       "15111   500.00  \n",
       "17484  4593.00  \n",
       "17532  5250.00  \n",
       "27334  6168.00  \n",
       "27443  1042.00  \n",
       "27522  3225.00  \n",
       "27574  3032.88  \n",
       "27602  1552.00  \n",
       "27755  5305.00  "
      ]
     },
     "execution_count": 17,
     "metadata": {},
     "output_type": "execute_result"
    }
   ],
   "source": [
    "null_rows = projects_df[projects_df.isnull().any(axis=1)]\n",
    "null_rows.head(10)"
   ]
  },
  {
   "cell_type": "code",
   "execution_count": 18,
   "metadata": {
    "colab": {
     "base_uri": "https://localhost:8080/",
     "height": 323
    },
    "colab_type": "code",
    "id": "MT-7nw_OC8vq",
    "outputId": "ceda5646-8698-427c-ead8-b286480b9421"
   },
   "outputs": [
    {
     "name": "stdout",
     "output_type": "stream",
     "text": [
      "<class 'pandas.core.frame.DataFrame'>\n",
      "Int64Index: 745 entries, 9490 to 59365\n",
      "Data columns (total 13 columns):\n",
      "id               745 non-null int64\n",
      "name             745 non-null object\n",
      "category         745 non-null object\n",
      "main_category    745 non-null object\n",
      "deadline         745 non-null datetime64[ns]\n",
      "goal             745 non-null float64\n",
      "launched         745 non-null datetime64[ns]\n",
      "state            745 non-null object\n",
      "backers          745 non-null int64\n",
      "country          745 non-null object\n",
      "usd_pledged      0 non-null float64\n",
      "currency         745 non-null object\n",
      "pledged          745 non-null float64\n",
      "dtypes: datetime64[ns](2), float64(3), int64(2), object(6)\n",
      "memory usage: 81.5+ KB\n"
     ]
    }
   ],
   "source": [
    "null_rows.info()"
   ]
  },
  {
   "cell_type": "markdown",
   "metadata": {
    "colab_type": "text",
    "id": "FVpWTnOADEFE"
   },
   "source": [
    "In a real-life situation, you may be able to go back to the source of this data and find out why the data is like this. For example, the *country* column appears to be broken, even though it contains a value. And the state seems to be undefined for many of these rows. There are only 745 problem rows, so it may be better for your analysis if you dropped those rows altogether.\n",
    "\n",
    "If you choose to place a default value in these columns, you could use the `fillna()` method to replace all `NaN` values with a specific value. For example, to replace all `NaN` values with `0`, you could run the following code:"
   ]
  },
  {
   "cell_type": "code",
   "execution_count": 19,
   "metadata": {
    "colab": {
     "base_uri": "https://localhost:8080/",
     "height": 597
    },
    "colab_type": "code",
    "id": "Y9olZCNbELf-",
    "outputId": "595c5b5a-8685-41bf-ed5c-acbe2362a388"
   },
   "outputs": [
    {
     "data": {
      "text/html": [
       "<div>\n",
       "<style scoped>\n",
       "    .dataframe tbody tr th:only-of-type {\n",
       "        vertical-align: middle;\n",
       "    }\n",
       "\n",
       "    .dataframe tbody tr th {\n",
       "        vertical-align: top;\n",
       "    }\n",
       "\n",
       "    .dataframe thead th {\n",
       "        text-align: right;\n",
       "    }\n",
       "</style>\n",
       "<table border=\"1\" class=\"dataframe\">\n",
       "  <thead>\n",
       "    <tr style=\"text-align: right;\">\n",
       "      <th></th>\n",
       "      <th>id</th>\n",
       "      <th>name</th>\n",
       "      <th>category</th>\n",
       "      <th>main_category</th>\n",
       "      <th>deadline</th>\n",
       "      <th>goal</th>\n",
       "      <th>launched</th>\n",
       "      <th>state</th>\n",
       "      <th>backers</th>\n",
       "      <th>country</th>\n",
       "      <th>usd_pledged</th>\n",
       "      <th>currency</th>\n",
       "      <th>pledged</th>\n",
       "    </tr>\n",
       "  </thead>\n",
       "  <tbody>\n",
       "    <tr>\n",
       "      <th>9490</th>\n",
       "      <td>1189637889</td>\n",
       "      <td>\"Natural Born Hooker\"</td>\n",
       "      <td>Theater</td>\n",
       "      <td>Theater</td>\n",
       "      <td>2012-04-24 08:59:00</td>\n",
       "      <td>25000.0</td>\n",
       "      <td>2012-03-14 19:05:44</td>\n",
       "      <td>undefined</td>\n",
       "      <td>0</td>\n",
       "      <td>N,\"0</td>\n",
       "      <td>0.0</td>\n",
       "      <td>USD</td>\n",
       "      <td>2621.00</td>\n",
       "    </tr>\n",
       "    <tr>\n",
       "      <th>15111</th>\n",
       "      <td>1244477824</td>\n",
       "      <td>Statpedia - The Collaborative Search Engine fo...</td>\n",
       "      <td>Software</td>\n",
       "      <td>Technology</td>\n",
       "      <td>2012-12-14 10:48:14</td>\n",
       "      <td>500.0</td>\n",
       "      <td>2012-11-14 10:48:14</td>\n",
       "      <td>undefined</td>\n",
       "      <td>0</td>\n",
       "      <td>N,\"0</td>\n",
       "      <td>0.0</td>\n",
       "      <td>USD</td>\n",
       "      <td>500.00</td>\n",
       "    </tr>\n",
       "    <tr>\n",
       "      <th>17484</th>\n",
       "      <td>1084993156</td>\n",
       "      <td>Willy Tea, Chris Doud and Chums: The Children'...</td>\n",
       "      <td>Music</td>\n",
       "      <td>Music</td>\n",
       "      <td>2013-04-09 06:06:11</td>\n",
       "      <td>3750.0</td>\n",
       "      <td>2013-03-26 05:06:11</td>\n",
       "      <td>successful</td>\n",
       "      <td>0</td>\n",
       "      <td>N,\"0</td>\n",
       "      <td>0.0</td>\n",
       "      <td>USD</td>\n",
       "      <td>4593.00</td>\n",
       "    </tr>\n",
       "    <tr>\n",
       "      <th>17532</th>\n",
       "      <td>1379649454</td>\n",
       "      <td>Juiette Z. Payne presents debut EP \"Eternal Da...</td>\n",
       "      <td>Music</td>\n",
       "      <td>Music</td>\n",
       "      <td>2013-04-11 15:50:25</td>\n",
       "      <td>5000.0</td>\n",
       "      <td>2013-03-02 15:50:25</td>\n",
       "      <td>successful</td>\n",
       "      <td>0</td>\n",
       "      <td>N,\"0</td>\n",
       "      <td>0.0</td>\n",
       "      <td>USD</td>\n",
       "      <td>5250.00</td>\n",
       "    </tr>\n",
       "    <tr>\n",
       "      <th>27334</th>\n",
       "      <td>1349042579</td>\n",
       "      <td>O'Films Production Launch!</td>\n",
       "      <td>Film &amp; Video</td>\n",
       "      <td>Film &amp; Video</td>\n",
       "      <td>2014-04-30 02:58:25</td>\n",
       "      <td>6000.0</td>\n",
       "      <td>2014-04-08 02:58:25</td>\n",
       "      <td>undefined</td>\n",
       "      <td>0</td>\n",
       "      <td>N,\"0</td>\n",
       "      <td>0.0</td>\n",
       "      <td>USD</td>\n",
       "      <td>6168.00</td>\n",
       "    </tr>\n",
       "    <tr>\n",
       "      <th>27443</th>\n",
       "      <td>1205956740</td>\n",
       "      <td>Short Film - \"The Man Who Choked\"</td>\n",
       "      <td>Film &amp; Video</td>\n",
       "      <td>Film &amp; Video</td>\n",
       "      <td>2014-05-02 12:47:00</td>\n",
       "      <td>1000.0</td>\n",
       "      <td>2014-04-16 13:21:21</td>\n",
       "      <td>undefined</td>\n",
       "      <td>0</td>\n",
       "      <td>N,\"0</td>\n",
       "      <td>0.0</td>\n",
       "      <td>GBP</td>\n",
       "      <td>1042.00</td>\n",
       "    </tr>\n",
       "    <tr>\n",
       "      <th>27522</th>\n",
       "      <td>1125500286</td>\n",
       "      <td>All About Amy</td>\n",
       "      <td>Film &amp; Video</td>\n",
       "      <td>Film &amp; Video</td>\n",
       "      <td>2014-05-04 17:41:13</td>\n",
       "      <td>3000.0</td>\n",
       "      <td>2014-04-04 17:41:13</td>\n",
       "      <td>undefined</td>\n",
       "      <td>0</td>\n",
       "      <td>N,\"0</td>\n",
       "      <td>0.0</td>\n",
       "      <td>USD</td>\n",
       "      <td>3225.00</td>\n",
       "    </tr>\n",
       "    <tr>\n",
       "      <th>27574</th>\n",
       "      <td>1292835145</td>\n",
       "      <td>WonderQuest ~ A Feature Length Music Film</td>\n",
       "      <td>Film &amp; Video</td>\n",
       "      <td>Film &amp; Video</td>\n",
       "      <td>2014-05-06 05:12:41</td>\n",
       "      <td>1111.0</td>\n",
       "      <td>2014-04-05 05:12:41</td>\n",
       "      <td>undefined</td>\n",
       "      <td>0</td>\n",
       "      <td>N,\"0</td>\n",
       "      <td>0.0</td>\n",
       "      <td>USD</td>\n",
       "      <td>3032.88</td>\n",
       "    </tr>\n",
       "    <tr>\n",
       "      <th>27602</th>\n",
       "      <td>1092574678</td>\n",
       "      <td>Pixelate Film Festival 2014</td>\n",
       "      <td>Film &amp; Video</td>\n",
       "      <td>Film &amp; Video</td>\n",
       "      <td>2014-05-07 13:37:16</td>\n",
       "      <td>1500.0</td>\n",
       "      <td>2014-04-09 13:37:16</td>\n",
       "      <td>undefined</td>\n",
       "      <td>0</td>\n",
       "      <td>N,\"0</td>\n",
       "      <td>0.0</td>\n",
       "      <td>GBP</td>\n",
       "      <td>1552.00</td>\n",
       "    </tr>\n",
       "    <tr>\n",
       "      <th>27755</th>\n",
       "      <td>1061706792</td>\n",
       "      <td>Zombie Shuffle feature film</td>\n",
       "      <td>Film &amp; Video</td>\n",
       "      <td>Film &amp; Video</td>\n",
       "      <td>2014-05-12 05:59:00</td>\n",
       "      <td>5000.0</td>\n",
       "      <td>2014-04-09 16:12:49</td>\n",
       "      <td>undefined</td>\n",
       "      <td>0</td>\n",
       "      <td>N,\"0</td>\n",
       "      <td>0.0</td>\n",
       "      <td>USD</td>\n",
       "      <td>5305.00</td>\n",
       "    </tr>\n",
       "  </tbody>\n",
       "</table>\n",
       "</div>"
      ],
      "text/plain": [
       "               id                                               name  \\\n",
       "9490   1189637889                              \"Natural Born Hooker\"   \n",
       "15111  1244477824  Statpedia - The Collaborative Search Engine fo...   \n",
       "17484  1084993156  Willy Tea, Chris Doud and Chums: The Children'...   \n",
       "17532  1379649454  Juiette Z. Payne presents debut EP \"Eternal Da...   \n",
       "27334  1349042579                         O'Films Production Launch!   \n",
       "27443  1205956740                  Short Film - \"The Man Who Choked\"   \n",
       "27522  1125500286                                      All About Amy   \n",
       "27574  1292835145          WonderQuest ~ A Feature Length Music Film   \n",
       "27602  1092574678                        Pixelate Film Festival 2014   \n",
       "27755  1061706792                        Zombie Shuffle feature film   \n",
       "\n",
       "           category main_category            deadline     goal  \\\n",
       "9490        Theater       Theater 2012-04-24 08:59:00  25000.0   \n",
       "15111      Software    Technology 2012-12-14 10:48:14    500.0   \n",
       "17484         Music         Music 2013-04-09 06:06:11   3750.0   \n",
       "17532         Music         Music 2013-04-11 15:50:25   5000.0   \n",
       "27334  Film & Video  Film & Video 2014-04-30 02:58:25   6000.0   \n",
       "27443  Film & Video  Film & Video 2014-05-02 12:47:00   1000.0   \n",
       "27522  Film & Video  Film & Video 2014-05-04 17:41:13   3000.0   \n",
       "27574  Film & Video  Film & Video 2014-05-06 05:12:41   1111.0   \n",
       "27602  Film & Video  Film & Video 2014-05-07 13:37:16   1500.0   \n",
       "27755  Film & Video  Film & Video 2014-05-12 05:59:00   5000.0   \n",
       "\n",
       "                 launched       state  backers country  usd_pledged currency  \\\n",
       "9490  2012-03-14 19:05:44   undefined        0    N,\"0          0.0      USD   \n",
       "15111 2012-11-14 10:48:14   undefined        0    N,\"0          0.0      USD   \n",
       "17484 2013-03-26 05:06:11  successful        0    N,\"0          0.0      USD   \n",
       "17532 2013-03-02 15:50:25  successful        0    N,\"0          0.0      USD   \n",
       "27334 2014-04-08 02:58:25   undefined        0    N,\"0          0.0      USD   \n",
       "27443 2014-04-16 13:21:21   undefined        0    N,\"0          0.0      GBP   \n",
       "27522 2014-04-04 17:41:13   undefined        0    N,\"0          0.0      USD   \n",
       "27574 2014-04-05 05:12:41   undefined        0    N,\"0          0.0      USD   \n",
       "27602 2014-04-09 13:37:16   undefined        0    N,\"0          0.0      GBP   \n",
       "27755 2014-04-09 16:12:49   undefined        0    N,\"0          0.0      USD   \n",
       "\n",
       "       pledged  \n",
       "9490   2621.00  \n",
       "15111   500.00  \n",
       "17484  4593.00  \n",
       "17532  5250.00  \n",
       "27334  6168.00  \n",
       "27443  1042.00  \n",
       "27522  3225.00  \n",
       "27574  3032.88  \n",
       "27602  1552.00  \n",
       "27755  5305.00  "
      ]
     },
     "execution_count": 19,
     "metadata": {},
     "output_type": "execute_result"
    }
   ],
   "source": [
    "zero_filled = null_rows.fillna(0)\n",
    "zero_filled.head(10)"
   ]
  },
  {
   "cell_type": "markdown",
   "metadata": {
    "colab_type": "text",
    "id": "40UGvWPGEjVh"
   },
   "source": [
    "But in this case, you would prefer to drop all the rows with `NaN`. So instead, use the `dropna()` method."
   ]
  },
  {
   "cell_type": "code",
   "execution_count": 20,
   "metadata": {
    "colab": {
     "base_uri": "https://localhost:8080/",
     "height": 51
    },
    "colab_type": "code",
    "id": "h6IWrNMfEtKq",
    "outputId": "282cc8a5-4b70-4340-ccd6-1994e96c7b9e"
   },
   "outputs": [
    {
     "name": "stdout",
     "output_type": "stream",
     "text": [
      "850434\n",
      "840749\n"
     ]
    }
   ],
   "source": [
    "# Print the original size of the DataFrame\n",
    "print(projects_df.size)\n",
    "\n",
    "# Drop `NaN` rows\n",
    "clean_projects = projects_df.dropna()\n",
    "\n",
    "# Print the size of the modified DataFrame\n",
    "print(clean_projects.size)"
   ]
  },
  {
   "cell_type": "markdown",
   "metadata": {
    "colab_type": "text",
    "id": "-lMUBMZ9FakH"
   },
   "source": [
    "## Statistics\n",
    "\n",
    "Now that you have a clean DataFrame and you understand some of the categorical data better, turn your attention to the numerical columns. Typically, you want to determine the range of values and the type of distribution of the numbers. Pandas has a few methods to perform many of these tasks on a Series.\n",
    "\n",
    "You could write a simple function that will print these details for a given Series."
   ]
  },
  {
   "cell_type": "code",
   "execution_count": 21,
   "metadata": {
    "colab": {},
    "colab_type": "code",
    "id": "iFpX1jQaGLaG"
   },
   "outputs": [],
   "source": [
    "def series_statistics(column):\n",
    "  print('statistics for column: {}'.format(column.name))\n",
    "  print('The max value in the column: {}'.format(column.max()))\n",
    "  print('The min value in the column: {}'.format(column.min()))\n",
    "  print('The mode value in the column: {}'.format(column.mode()))\n",
    "  print('The median value in the column: {}'.format(column.median()))\n",
    "  print('The mean of the column: {}'.format(column.mean()))\n",
    "  print('The std of the column: {}'.format(column.std()))"
   ]
  },
  {
   "cell_type": "code",
   "execution_count": 22,
   "metadata": {
    "colab": {
     "base_uri": "https://localhost:8080/",
     "height": 153
    },
    "colab_type": "code",
    "id": "6EmVZB8mGhCp",
    "outputId": "10b473fc-a189-469e-ef2b-ac83c75d1bd0"
   },
   "outputs": [
    {
     "name": "stdout",
     "output_type": "stream",
     "text": [
      "statistics for column: goal\n",
      "The max value in the column: 100000000.0\n",
      "The min value in the column: 1.0\n",
      "The mode value in the column: 0    5000.0\n",
      "dtype: float64\n",
      "The median value in the column: 5000.0\n",
      "The mean of the column: 42094.83745674393\n",
      "The std of the column: 1033205.2738987174\n"
     ]
    }
   ],
   "source": [
    "series_statistics(clean_projects['goal'])"
   ]
  },
  {
   "cell_type": "code",
   "execution_count": 23,
   "metadata": {
    "colab": {
     "base_uri": "https://localhost:8080/",
     "height": 153
    },
    "colab_type": "code",
    "id": "i4zY3VEVISaP",
    "outputId": "c059b03f-8018-494c-9ff6-d79b7e3fbf70"
   },
   "outputs": [
    {
     "name": "stdout",
     "output_type": "stream",
     "text": [
      "statistics for column: usd_pledged\n",
      "The max value in the column: 8596480.0\n",
      "The min value in the column: 0.0\n",
      "The mode value in the column: 0    0.0\n",
      "dtype: float64\n",
      "The median value in the column: 542.0\n",
      "The mean of the column: 7900.242114883215\n",
      "The std of the column: 72783.34386006395\n"
     ]
    }
   ],
   "source": [
    "series_statistics(clean_projects['usd_pledged'])"
   ]
  },
  {
   "cell_type": "markdown",
   "metadata": {
    "colab_type": "text",
    "id": "3QOZHTJ7Ipb9"
   },
   "source": [
    "Because these values are so commonly needed, there is a special function named `describe()` that automatically calculates them all for you, including the interquartile ranges."
   ]
  },
  {
   "cell_type": "code",
   "execution_count": 24,
   "metadata": {
    "colab": {
     "base_uri": "https://localhost:8080/",
     "height": 170
    },
    "colab_type": "code",
    "id": "DnHEuSstJAfU",
    "outputId": "c9fc088c-b519-45cc-cdfb-ff3bf55c4511"
   },
   "outputs": [
    {
     "data": {
      "text/plain": [
       "count    6.467300e+04\n",
       "mean     4.209484e+04\n",
       "std      1.033205e+06\n",
       "min      1.000000e+00\n",
       "25%      2.000000e+03\n",
       "50%      5.000000e+03\n",
       "75%      1.500000e+04\n",
       "max      1.000000e+08\n",
       "Name: goal, dtype: float64"
      ]
     },
     "execution_count": 24,
     "metadata": {},
     "output_type": "execute_result"
    }
   ],
   "source": [
    "clean_projects['goal'].describe()"
   ]
  },
  {
   "cell_type": "code",
   "execution_count": 25,
   "metadata": {
    "colab": {
     "base_uri": "https://localhost:8080/",
     "height": 170
    },
    "colab_type": "code",
    "id": "p_MtMmJaJO9l",
    "outputId": "43d0c5e6-664e-440c-c97d-d5e17470de64"
   },
   "outputs": [
    {
     "data": {
      "text/plain": [
       "count    6.467300e+04\n",
       "mean     7.900242e+03\n",
       "std      7.278334e+04\n",
       "min      0.000000e+00\n",
       "25%      2.500000e+01\n",
       "50%      5.420000e+02\n",
       "75%      3.608380e+03\n",
       "max      8.596480e+06\n",
       "Name: usd_pledged, dtype: float64"
      ]
     },
     "execution_count": 25,
     "metadata": {},
     "output_type": "execute_result"
    }
   ],
   "source": [
    "clean_projects['usd_pledged'].describe()"
   ]
  },
  {
   "cell_type": "markdown",
   "metadata": {
    "colab_type": "text",
    "id": "pRxIzxhkJq4U"
   },
   "source": [
    "In fact, the `describe()` method may be applied to an entire DataFrame. All numeric columns in the DataFrame will be analyzed."
   ]
  },
  {
   "cell_type": "code",
   "execution_count": 26,
   "metadata": {
    "colab": {
     "base_uri": "https://localhost:8080/",
     "height": 297
    },
    "colab_type": "code",
    "id": "WujbShv6J7fZ",
    "outputId": "35d53b6c-7ffa-419c-e6d0-f19ab90787ff"
   },
   "outputs": [
    {
     "data": {
      "text/html": [
       "<div>\n",
       "<style scoped>\n",
       "    .dataframe tbody tr th:only-of-type {\n",
       "        vertical-align: middle;\n",
       "    }\n",
       "\n",
       "    .dataframe tbody tr th {\n",
       "        vertical-align: top;\n",
       "    }\n",
       "\n",
       "    .dataframe thead th {\n",
       "        text-align: right;\n",
       "    }\n",
       "</style>\n",
       "<table border=\"1\" class=\"dataframe\">\n",
       "  <thead>\n",
       "    <tr style=\"text-align: right;\">\n",
       "      <th></th>\n",
       "      <th>goal</th>\n",
       "      <th>usd_pledged</th>\n",
       "      <th>backers</th>\n",
       "    </tr>\n",
       "  </thead>\n",
       "  <tbody>\n",
       "    <tr>\n",
       "      <th>count</th>\n",
       "      <td>6.467300e+04</td>\n",
       "      <td>6.467300e+04</td>\n",
       "      <td>64673.000000</td>\n",
       "    </tr>\n",
       "    <tr>\n",
       "      <th>mean</th>\n",
       "      <td>4.209484e+04</td>\n",
       "      <td>7.900242e+03</td>\n",
       "      <td>104.336091</td>\n",
       "    </tr>\n",
       "    <tr>\n",
       "      <th>std</th>\n",
       "      <td>1.033205e+06</td>\n",
       "      <td>7.278334e+04</td>\n",
       "      <td>994.725411</td>\n",
       "    </tr>\n",
       "    <tr>\n",
       "      <th>min</th>\n",
       "      <td>1.000000e+00</td>\n",
       "      <td>0.000000e+00</td>\n",
       "      <td>0.000000</td>\n",
       "    </tr>\n",
       "    <tr>\n",
       "      <th>25%</th>\n",
       "      <td>2.000000e+03</td>\n",
       "      <td>2.500000e+01</td>\n",
       "      <td>2.000000</td>\n",
       "    </tr>\n",
       "    <tr>\n",
       "      <th>50%</th>\n",
       "      <td>5.000000e+03</td>\n",
       "      <td>5.420000e+02</td>\n",
       "      <td>13.000000</td>\n",
       "    </tr>\n",
       "    <tr>\n",
       "      <th>75%</th>\n",
       "      <td>1.500000e+04</td>\n",
       "      <td>3.608380e+03</td>\n",
       "      <td>56.000000</td>\n",
       "    </tr>\n",
       "    <tr>\n",
       "      <th>max</th>\n",
       "      <td>1.000000e+08</td>\n",
       "      <td>8.596480e+06</td>\n",
       "      <td>154926.000000</td>\n",
       "    </tr>\n",
       "  </tbody>\n",
       "</table>\n",
       "</div>"
      ],
      "text/plain": [
       "               goal   usd_pledged        backers\n",
       "count  6.467300e+04  6.467300e+04   64673.000000\n",
       "mean   4.209484e+04  7.900242e+03     104.336091\n",
       "std    1.033205e+06  7.278334e+04     994.725411\n",
       "min    1.000000e+00  0.000000e+00       0.000000\n",
       "25%    2.000000e+03  2.500000e+01       2.000000\n",
       "50%    5.000000e+03  5.420000e+02      13.000000\n",
       "75%    1.500000e+04  3.608380e+03      56.000000\n",
       "max    1.000000e+08  8.596480e+06  154926.000000"
      ]
     },
     "execution_count": 26,
     "metadata": {},
     "output_type": "execute_result"
    }
   ],
   "source": [
    "clean_projects[['goal', 'usd_pledged', 'backers']].describe()"
   ]
  },
  {
   "cell_type": "markdown",
   "metadata": {
    "colab_type": "text",
    "id": "m6bgfHA0KS3A"
   },
   "source": [
    "## Correlations\n",
    "\n",
    "Sometimes, it's useful to examine if there are correlations between columns. That is, is there a linear relationship between two columns? To perform such a test, use the `corr()` method. This method calculates the *Pearson correlation coefficient* between the two columns. This coefficient is a number between `-1` and `1`. A `1` means that a strong relationship exists, a `-1` means that a strong negative relationship exists, and a `0` means that there is no relationship at all. "
   ]
  },
  {
   "cell_type": "code",
   "execution_count": 27,
   "metadata": {
    "colab": {
     "base_uri": "https://localhost:8080/",
     "height": 34
    },
    "colab_type": "code",
    "id": "h6yD54BiK7KS",
    "outputId": "7b55f449-8a12-4052-9f42-2be0f6c0b124"
   },
   "outputs": [
    {
     "data": {
      "text/plain": [
       "0.006423740131433381"
      ]
     },
     "execution_count": 27,
     "metadata": {},
     "output_type": "execute_result"
    }
   ],
   "source": [
    "clean_projects['goal'].corr(clean_projects['usd_pledged'])"
   ]
  },
  {
   "cell_type": "markdown",
   "metadata": {
    "colab_type": "text",
    "id": "fU4pdYuLL9ym"
   },
   "source": [
    "This value is close to `0`, which implies that there is no relationship between the goal and the amount pledged. Are there relationships between the other fields? You can apply this method to the entire DataFrame."
   ]
  },
  {
   "cell_type": "code",
   "execution_count": 28,
   "metadata": {
    "colab": {
     "base_uri": "https://localhost:8080/",
     "height": 142
    },
    "colab_type": "code",
    "id": "550pMNvxMPxV",
    "outputId": "e3789de9-f318-4988-f817-1fbefdc84956"
   },
   "outputs": [
    {
     "data": {
      "text/html": [
       "<div>\n",
       "<style scoped>\n",
       "    .dataframe tbody tr th:only-of-type {\n",
       "        vertical-align: middle;\n",
       "    }\n",
       "\n",
       "    .dataframe tbody tr th {\n",
       "        vertical-align: top;\n",
       "    }\n",
       "\n",
       "    .dataframe thead th {\n",
       "        text-align: right;\n",
       "    }\n",
       "</style>\n",
       "<table border=\"1\" class=\"dataframe\">\n",
       "  <thead>\n",
       "    <tr style=\"text-align: right;\">\n",
       "      <th></th>\n",
       "      <th>goal</th>\n",
       "      <th>usd_pledged</th>\n",
       "      <th>backers</th>\n",
       "    </tr>\n",
       "  </thead>\n",
       "  <tbody>\n",
       "    <tr>\n",
       "      <th>goal</th>\n",
       "      <td>1.000000</td>\n",
       "      <td>0.006424</td>\n",
       "      <td>0.003033</td>\n",
       "    </tr>\n",
       "    <tr>\n",
       "      <th>usd_pledged</th>\n",
       "      <td>0.006424</td>\n",
       "      <td>1.000000</td>\n",
       "      <td>0.569047</td>\n",
       "    </tr>\n",
       "    <tr>\n",
       "      <th>backers</th>\n",
       "      <td>0.003033</td>\n",
       "      <td>0.569047</td>\n",
       "      <td>1.000000</td>\n",
       "    </tr>\n",
       "  </tbody>\n",
       "</table>\n",
       "</div>"
      ],
      "text/plain": [
       "                 goal  usd_pledged   backers\n",
       "goal         1.000000     0.006424  0.003033\n",
       "usd_pledged  0.006424     1.000000  0.569047\n",
       "backers      0.003033     0.569047  1.000000"
      ]
     },
     "execution_count": 28,
     "metadata": {},
     "output_type": "execute_result"
    }
   ],
   "source": [
    "clean_projects[['goal', 'usd_pledged', 'backers']].corr()"
   ]
  },
  {
   "cell_type": "markdown",
   "metadata": {
    "colab_type": "text",
    "id": "qrCS_2wFMZRs"
   },
   "source": [
    "From this table, you can see that the correlation coefficient between the USD pledged and the number of backers is `0.57`, which implies that there is some positive correlation between these two columns, but not between any of the other columns. This bears out as you might expect: as the number of backers increases, the amount pledged will also increase. Sometimes, though, the results can be surprising."
   ]
  },
  {
   "cell_type": "markdown",
   "metadata": {},
   "source": [
    "### Statistical significance of correlations\n",
    "\n",
    "It is possible to test for statistical significance of a correlation—but not in pandas! Instead, you will use the excellent SciPy library for scientific computing. This library has a tremendous number of built-in statistical functions.\n",
    "\n",
    "To conduct a Pearson correlation test, use the `stats.pearsonr()` method. Here, you are testing the likelihood of this linear relationship existing in the overall population:"
   ]
  },
  {
   "cell_type": "code",
   "execution_count": 1,
   "metadata": {},
   "outputs": [
    {
     "ename": "NameError",
     "evalue": "name 'stats' is not defined",
     "output_type": "error",
     "traceback": [
      "\u001b[1;31m---------------------------------------------------------------------------\u001b[0m",
      "\u001b[1;31mNameError\u001b[0m                                 Traceback (most recent call last)",
      "\u001b[1;32m<ipython-input-1-20e491f2126a>\u001b[0m in \u001b[0;36m<module>\u001b[1;34m\u001b[0m\n\u001b[1;32m----> 1\u001b[1;33m \u001b[0mstats\u001b[0m\u001b[1;33m.\u001b[0m\u001b[0mpearsonr\u001b[0m\u001b[1;33m(\u001b[0m\u001b[0mclean_projects\u001b[0m\u001b[1;33m[\u001b[0m\u001b[1;34m'backers'\u001b[0m\u001b[1;33m]\u001b[0m\u001b[1;33m,\u001b[0m \u001b[0mclean_projects\u001b[0m\u001b[1;33m[\u001b[0m\u001b[1;34m'usd_pledged'\u001b[0m\u001b[1;33m]\u001b[0m\u001b[1;33m)\u001b[0m\u001b[1;33m\u001b[0m\u001b[1;33m\u001b[0m\u001b[0m\n\u001b[0m",
      "\u001b[1;31mNameError\u001b[0m: name 'stats' is not defined"
     ]
    }
   ],
   "source": [
    "stats.pearsonr(clean_projects['backers'], clean_projects['usd_pledged'])"
   ]
  },
  {
   "cell_type": "markdown",
   "metadata": {},
   "source": [
    "This method returns two outputs: the correlation of `0.569` (which you saw before in pandas) and the p-value. In this case, the p-value is so small that SciPy rounded it to `0.0`. From this, you can expect a significant correlation between these two variables to generalize out to the population.\n",
    "\n",
    "Statistics, however, is all about probability, so you will never know for sure that this relationship will be found in the population. That's why, when presenting a p-value in a written document or slides, it's common to format a very low p-value as `<0.05` or `<0.005` instead of `0.0`."
   ]
  },
  {
   "cell_type": "markdown",
   "metadata": {
    "colab_type": "text",
    "id": "Y3em3VNjLC5b"
   },
   "source": [
    "## Independent-samples t-test\n",
    "\n",
    "Recall the independent t-test performed in Excel. Suppose that you wanted to find out if baseball salaries changed between 1990 and 2000. You could start by gathering data about the salaries of players in 1990 and 2000. It is reasonable to assume that some players in 1990 would make more than some players in 2000, and vice versa. Simply using the averages is subject to too many variables, and that is where the independent-samples t-test comes in. \n",
    "\n",
    "You'll use the SciPy library for this as well. Start by loading up a DataFrame with the data."
   ]
  },
  {
   "cell_type": "code",
   "execution_count": 29,
   "metadata": {
    "colab": {
     "base_uri": "https://localhost:8080/",
     "height": 111
    },
    "colab_type": "code",
    "id": "45ATX__BSEpr",
    "outputId": "f629fdca-5cc0-4d41-8a1c-e8294ee94703"
   },
   "outputs": [
    {
     "data": {
      "text/html": [
       "<div>\n",
       "<style scoped>\n",
       "    .dataframe tbody tr th:only-of-type {\n",
       "        vertical-align: middle;\n",
       "    }\n",
       "\n",
       "    .dataframe tbody tr th {\n",
       "        vertical-align: top;\n",
       "    }\n",
       "\n",
       "    .dataframe thead th {\n",
       "        text-align: right;\n",
       "    }\n",
       "</style>\n",
       "<table border=\"1\" class=\"dataframe\">\n",
       "  <thead>\n",
       "    <tr style=\"text-align: right;\">\n",
       "      <th></th>\n",
       "      <th>playerid</th>\n",
       "      <th>birthyear</th>\n",
       "      <th>birthcountry</th>\n",
       "      <th>deathyear</th>\n",
       "      <th>namefirst</th>\n",
       "      <th>namelast</th>\n",
       "      <th>weight</th>\n",
       "      <th>height</th>\n",
       "      <th>bats</th>\n",
       "      <th>throws</th>\n",
       "      <th>yearid</th>\n",
       "      <th>teamid</th>\n",
       "      <th>lgid</th>\n",
       "      <th>salary</th>\n",
       "    </tr>\n",
       "  </thead>\n",
       "  <tbody>\n",
       "    <tr>\n",
       "      <th>0</th>\n",
       "      <td>barkele01</td>\n",
       "      <td>1955</td>\n",
       "      <td>USA</td>\n",
       "      <td>NaN</td>\n",
       "      <td>Len</td>\n",
       "      <td>Barker</td>\n",
       "      <td>225</td>\n",
       "      <td>77</td>\n",
       "      <td>R</td>\n",
       "      <td>R</td>\n",
       "      <td>1985</td>\n",
       "      <td>ATL</td>\n",
       "      <td>NL</td>\n",
       "      <td>870000</td>\n",
       "    </tr>\n",
       "    <tr>\n",
       "      <th>1</th>\n",
       "      <td>bedrost01</td>\n",
       "      <td>1957</td>\n",
       "      <td>USA</td>\n",
       "      <td>NaN</td>\n",
       "      <td>Steve</td>\n",
       "      <td>Bedrosian</td>\n",
       "      <td>200</td>\n",
       "      <td>75</td>\n",
       "      <td>R</td>\n",
       "      <td>R</td>\n",
       "      <td>1985</td>\n",
       "      <td>ATL</td>\n",
       "      <td>NL</td>\n",
       "      <td>550000</td>\n",
       "    </tr>\n",
       "  </tbody>\n",
       "</table>\n",
       "</div>"
      ],
      "text/plain": [
       "    playerid  birthyear birthcountry  deathyear namefirst   namelast  weight  \\\n",
       "0  barkele01       1955          USA        NaN       Len     Barker     225   \n",
       "1  bedrost01       1957          USA        NaN     Steve  Bedrosian     200   \n",
       "\n",
       "   height bats throws  yearid teamid lgid  salary  \n",
       "0      77    R      R    1985    ATL   NL  870000  \n",
       "1      75    R      R    1985    ATL   NL  550000  "
      ]
     },
     "execution_count": 29,
     "metadata": {},
     "output_type": "execute_result"
    }
   ],
   "source": [
    "# Database credentials\n",
    "postgres_user = 'dabc_student'\n",
    "postgres_pw = '7*.8G9QH21'\n",
    "postgres_host = '142.93.121.174'\n",
    "postgres_port = '5432'\n",
    "postgres_db = 'baseball'\n",
    "\n",
    "# Use the credentials to start a connection\n",
    "engine = create_engine('postgresql://{}:{}@{}:{}/{}'.format(\n",
    "    postgres_user, postgres_pw, postgres_host, postgres_port, postgres_db))\n",
    "\n",
    "# SQL to select players and salaries\n",
    "sql = 'SELECT p.playerid, birthyear, birthcountry, deathyear, namefirst, namelast, weight, height, bats, throws, yearid, teamid, lgid, salary FROM people p join salaries s on p.playerid = s.playerid'\n",
    "\n",
    "\n",
    "# Use the query to create a DataFrame\n",
    "players_df = pd.read_sql_query(sql, con=engine)\n",
    "\n",
    "# Remove the connection\n",
    "engine.dispose()\n",
    "\n",
    "# Print two rows to see what you got\n",
    "players_df.head(2)"
   ]
  },
  {
   "cell_type": "code",
   "execution_count": 30,
   "metadata": {
    "colab": {
     "base_uri": "https://localhost:8080/",
     "height": 340
    },
    "colab_type": "code",
    "id": "6L4jZjFNi3jR",
    "outputId": "9b21aa9b-c5d8-4829-9a24-f742b6f33cc4"
   },
   "outputs": [
    {
     "name": "stdout",
     "output_type": "stream",
     "text": [
      "<class 'pandas.core.frame.DataFrame'>\n",
      "Int64Index: 867 entries, 3289 to 4155\n",
      "Data columns (total 14 columns):\n",
      "playerid        867 non-null object\n",
      "birthyear       867 non-null int64\n",
      "birthcountry    867 non-null object\n",
      "deathyear       36 non-null float64\n",
      "namefirst       867 non-null object\n",
      "namelast        867 non-null object\n",
      "weight          867 non-null int64\n",
      "height          867 non-null int64\n",
      "bats            867 non-null object\n",
      "throws          867 non-null object\n",
      "yearid          867 non-null int64\n",
      "teamid          867 non-null object\n",
      "lgid            867 non-null object\n",
      "salary          867 non-null int64\n",
      "dtypes: float64(1), int64(5), object(8)\n",
      "memory usage: 101.6+ KB\n"
     ]
    }
   ],
   "source": [
    "players_1990 = players_df.iloc[(players_df['yearid'] == 1990).values]\n",
    "players_1990.info()"
   ]
  },
  {
   "cell_type": "code",
   "execution_count": 31,
   "metadata": {
    "colab": {
     "base_uri": "https://localhost:8080/",
     "height": 340
    },
    "colab_type": "code",
    "id": "EfTPZhTNjC7Z",
    "outputId": "314b5aac-32c6-42be-be8f-558e59d505fc"
   },
   "outputs": [
    {
     "name": "stdout",
     "output_type": "stream",
     "text": [
      "<class 'pandas.core.frame.DataFrame'>\n",
      "Int64Index: 836 entries, 12263 to 13098\n",
      "Data columns (total 14 columns):\n",
      "playerid        836 non-null object\n",
      "birthyear       836 non-null int64\n",
      "birthcountry    836 non-null object\n",
      "deathyear       10 non-null float64\n",
      "namefirst       836 non-null object\n",
      "namelast        836 non-null object\n",
      "weight          836 non-null int64\n",
      "height          836 non-null int64\n",
      "bats            836 non-null object\n",
      "throws          836 non-null object\n",
      "yearid          836 non-null int64\n",
      "teamid          836 non-null object\n",
      "lgid            836 non-null object\n",
      "salary          836 non-null int64\n",
      "dtypes: float64(1), int64(5), object(8)\n",
      "memory usage: 98.0+ KB\n"
     ]
    }
   ],
   "source": [
    "players_2000 = players_df.iloc[(players_df['yearid'] == 2000).values]\n",
    "players_2000.info()"
   ]
  },
  {
   "cell_type": "markdown",
   "metadata": {
    "colab_type": "text",
    "id": "XOhqQ0uyqnqb"
   },
   "source": [
    "You have 867 salaries from 1990 and 836 salaries from 2000. The t-test will compare the means of these two samples and give a value that indicates how different these two means are. It will also give a p-value indicating how likely it is that this difference is due to random chance. A low p-value means that it is unlikely to occur by random chance, meaning that you have a significant result. A high p-value means that it is likely that the result that you see is due to random chance—in which case you cannot make meaningful statements about the difference.\n",
    "\n",
    "Use the [`ttest_ind()` function](https://docs.scipy.org/doc/scipy/reference/generated/scipy.stats.ttest_ind.html#scipy.stats.ttest_ind) to perform a t-test for these two samples.\n",
    "\n",
    "The null hypothesis is that there is no difference between these two samples. A low p-value negates this null hypothesis."
   ]
  },
  {
   "cell_type": "code",
   "execution_count": 32,
   "metadata": {
    "colab": {
     "base_uri": "https://localhost:8080/",
     "height": 34
    },
    "colab_type": "code",
    "id": "OtI1Kozrk5Mq",
    "outputId": "f2b87b2c-6a9a-4528-a4c8-2c822c6524ec"
   },
   "outputs": [
    {
     "data": {
      "text/plain": [
       "Ttest_indResult(statistic=-16.90651573407297, pvalue=2.1593870550905857e-59)"
      ]
     },
     "execution_count": 32,
     "metadata": {},
     "output_type": "execute_result"
    }
   ],
   "source": [
    "stats.ttest_ind(players_1990['salary'], players_2000['salary'])"
   ]
  },
  {
   "cell_type": "markdown",
   "metadata": {
    "colab_type": "text",
    "id": "SQbPkt5Aszbq"
   },
   "source": [
    "Note that  the negative t-value is not important; that is, you should just look at the absolute value. The sign of the t-value just indicates the directionality of the relationship between these samples. Try running the test again with the two samples swapped around; you'll see that you get the same value, but positive.\n",
    "\n",
    "There is a difference of `16.9` standard deviations between these two means. But is this just due to random chance, or is that difference significant? The p-value is extremely small, implying that this is a real difference. Baseball salaries changed dramatically between 1990 and 2000."
   ]
  },
  {
   "cell_type": "markdown",
   "metadata": {},
   "source": [
    "# Calculating the confidence interval\n",
    "\n",
    "You may remember that Excel's Data Analysis ToolPak provided some, but not all, of the results of a t-test. The same is true of `scipy.stats`. Although `ttest_ind()` *does* provide the test statistic and p-value, it does *not* provide measures of effect size, such as the confidence interval. To do that, you will have to crunch the numbers yourself with the help of pandas. \n",
    "\n",
    "To calculate the confidence interval, take your mean difference plus or minus the *margin of error*, which is calculated as your standard error of the mean difference times the test statistic of `1.96`. (For a refresher on how these formulas work, take a look back at the *Interpreting inferential statistics* module.) \n",
    "\n",
    "Start by calculating the sample size, mean, and variance for each of your two samples. Note that by indexing the results of `.shape`, you can extract just the number of rows from the DataFrame. (The number of columns would be position `[1]`). "
   ]
  },
  {
   "cell_type": "code",
   "execution_count": 33,
   "metadata": {},
   "outputs": [],
   "source": [
    "# Calculate the sample size, mean, and variance of each sample.\n",
    "# You will need this information to calculate standard errors.\n",
    "\n",
    "sample_1_n = players_1990.shape[0]\n",
    "sample_2_n = players_2000.shape[0]\n",
    "sample_1_mean = players_1990['salary'].mean()\n",
    "sample_2_mean = players_2000['salary'].mean()\n",
    "sample_1_var = players_1990['salary'].var()\n",
    "sample_2_var = players_2000['salary'].var()"
   ]
  },
  {
   "cell_type": "markdown",
   "metadata": {},
   "source": [
    "The next step requires taking a square root. To do that, you can import the `math` module. From there, you can estimate the lower and upper bounds of the confidence interval. "
   ]
  },
  {
   "cell_type": "code",
   "execution_count": 34,
   "metadata": {},
   "outputs": [
    {
     "name": "stdout",
     "output_type": "stream",
     "text": [
      "The difference in means at the 95% confidence interval is between 1306451.096390415 and 1655570.6584535995.\n"
     ]
    }
   ],
   "source": [
    "# Calculate the standard error and compute the confidence intervals.\n",
    "\n",
    "import math\n",
    "std_err_difference = math.sqrt((sample_1_var/sample_1_n)+(sample_2_var/sample_2_n))\n",
    "\n",
    "mean_difference = sample_2_mean - sample_1_mean\n",
    "\n",
    "margin_of_error = 1.96 * std_err_difference\n",
    "ci_lower = mean_difference - margin_of_error\n",
    "ci_upper = mean_difference + margin_of_error\n",
    "\n",
    "print(\"The difference in means at the 95% confidence interval is between \"+str(ci_lower)+\" and \"+str(ci_upper)+\".\")"
   ]
  },
  {
   "cell_type": "markdown",
   "metadata": {},
   "source": [
    "Whew! That was a lot of number-crunching! As with anything in Python, it's a good idea to write a function for a task that you expect to repeat. And considering that the [American Statistical Association](https://amstat.tandfonline.com/doi/full/10.1080/00031305.2016.1154108#.XQmJhcTPyPo) stated that \"a p-value ... does not measure the size of an effect or the importance of a result,\" you most certainly will be estimating the confidence interval early and often! So here is the new function, `get_95_ci()`:"
   ]
  },
  {
   "cell_type": "code",
   "execution_count": 35,
   "metadata": {},
   "outputs": [
    {
     "data": {
      "text/plain": [
       "'The difference in means at the 95% confidence interval (two-tail) is between 1306451.096390415 and 1655570.6584535995.'"
      ]
     },
     "execution_count": 35,
     "metadata": {},
     "output_type": "execute_result"
    }
   ],
   "source": [
    "def get_95_ci(array_1, array_2):\n",
    "    sample_1_n = array_1.shape[0]\n",
    "    sample_2_n = array_2.shape[0]\n",
    "    sample_1_mean = array_1.mean()\n",
    "    sample_2_mean = array_2.mean()\n",
    "    sample_1_var = array_1.var()\n",
    "    sample_2_var = array_2.var()\n",
    "    mean_difference = sample_2_mean - sample_1_mean\n",
    "    std_err_difference = math.sqrt((sample_1_var/sample_1_n)+(sample_2_var/sample_2_n))\n",
    "    margin_of_error = 1.96 * std_err_difference\n",
    "    ci_lower = mean_difference - margin_of_error\n",
    "    ci_upper = mean_difference + margin_of_error\n",
    "    return(\"The difference in means at the 95% confidence interval (two-tail) is between \"+str(ci_lower)+\" and \"+str(ci_upper)+\".\")\n",
    "\n",
    "get_95_ci(players_1990['salary'],players_2000['salary'])"
   ]
  },
  {
   "cell_type": "markdown",
   "metadata": {},
   "source": [
    "Using the confidence interval, you can quantify the difference between 2000 and 1990 as likely being between $1.30 million and $1.65 million—that's a solid effect size!"
   ]
  }
 ],
 "metadata": {
  "colab": {
   "name": "descriptive_stats_pandas.ipynb",
   "provenance": [],
   "version": "0.3.2"
  },
  "kernelspec": {
   "display_name": "Python 3 (ipykernel)",
   "language": "python",
   "name": "python3"
  },
  "language_info": {
   "codemirror_mode": {
    "name": "ipython",
    "version": 3
   },
   "file_extension": ".py",
   "mimetype": "text/x-python",
   "name": "python",
   "nbconvert_exporter": "python",
   "pygments_lexer": "ipython3",
   "version": "3.9.10"
  }
 },
 "nbformat": 4,
 "nbformat_minor": 1
}
