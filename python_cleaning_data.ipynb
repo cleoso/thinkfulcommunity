{
 "cells": [
  {
   "cell_type": "markdown",
   "metadata": {
    "id": "6GnuKOJC3f_1"
   },
   "source": [
    "## First, load the data\n",
    "\n",
    "To begin, load up some data from a database into a DataFrame."
   ]
  },
  {
   "cell_type": "code",
   "execution_count": null,
   "metadata": {
    "id": "A2M7-UiHfGw_"
   },
   "outputs": [],
   "source": [
    "# To keep the page organized, do all imports here\n",
    "from sqlalchemy import create_engine\n",
    "import pandas as pd\n",
    "from scipy import stats\n"
   ]
  },
  {
   "cell_type": "code",
   "execution_count": null,
   "metadata": {
    "colab": {
     "base_uri": "https://localhost:8080/"
    },
    "id": "RXG2KNWj3agD",
    "outputId": "2af38dd8-4333-4426-d816-826cc0261c06"
   },
   "outputs": [
    {
     "name": "stderr",
     "output_type": "stream",
     "text": [
      "/usr/local/lib/python3.7/dist-packages/psycopg2/__init__.py:144: UserWarning: The psycopg2 wheel package will be renamed from release 2.8; in order to keep installing from binary please use \"pip install psycopg2-binary\" instead. For details see: <http://initd.org/psycopg/docs/install.html#binary-install-from-pypi>.\n",
      "  \"\"\")\n"
     ]
    }
   ],
   "source": [
    "# Database credentials\n",
    "postgres_user = 'dabc_student'\n",
    "postgres_pw = '7*.8G9QH21'\n",
    "postgres_host = '142.93.121.174'\n",
    "postgres_port = '5432'\n",
    "postgres_db = 'kickstarterprojects'\n",
    "\n",
    "# Use the credentials to start a connection\n",
    "engine = create_engine('postgresql://{}:{}@{}:{}/{}'.format(\n",
    "    postgres_user, postgres_pw, postgres_host, postgres_port, postgres_db))"
   ]
  },
  {
   "cell_type": "code",
   "execution_count": null,
   "metadata": {
    "id": "raI5lFbIfFHr"
   },
   "outputs": [],
   "source": [
    "projects_df = pd.read_sql_table('ksprojects', con=engine)\n",
    "\n",
    "# Remove the connection\n",
    "engine.dispose()"
   ]
  },
  {
   "cell_type": "markdown",
   "metadata": {
    "id": "2u2Emfy4fmKs"
   },
   "source": [
    "Now, quickly examine your DataFrame."
   ]
  },
  {
   "cell_type": "code",
   "execution_count": null,
   "metadata": {
    "colab": {
     "base_uri": "https://localhost:8080/"
    },
    "id": "jM8Z-HVAftNr",
    "outputId": "54302f3e-3a8e-4423-8f21-722f136d9cd2"
   },
   "outputs": [
    {
     "data": {
      "text/plain": [
       "(65418, 13)"
      ]
     },
     "execution_count": 15,
     "metadata": {},
     "output_type": "execute_result"
    }
   ],
   "source": [
    "projects_df.shape"
   ]
  },
  {
   "cell_type": "code",
   "execution_count": null,
   "metadata": {
    "colab": {
     "base_uri": "https://localhost:8080/"
    },
    "id": "Gnb7aG8ifwqN",
    "outputId": "b2c11569-23aa-47c8-a44b-6bb7a1cde4ed"
   },
   "outputs": [
    {
     "name": "stdout",
     "output_type": "stream",
     "text": [
      "<class 'pandas.core.frame.DataFrame'>\n",
      "RangeIndex: 65418 entries, 0 to 65417\n",
      "Data columns (total 13 columns):\n",
      " #   Column         Non-Null Count  Dtype         \n",
      "---  ------         --------------  -----         \n",
      " 0   id             65418 non-null  int64         \n",
      " 1   name           65418 non-null  object        \n",
      " 2   category       65418 non-null  object        \n",
      " 3   main_category  65418 non-null  object        \n",
      " 4   deadline       65418 non-null  datetime64[ns]\n",
      " 5   goal           65418 non-null  float64       \n",
      " 6   launched       65418 non-null  datetime64[ns]\n",
      " 7   state          65418 non-null  object        \n",
      " 8   backers        65418 non-null  int64         \n",
      " 9   country        65418 non-null  object        \n",
      " 10  usd_pledged    64673 non-null  float64       \n",
      " 11  currency       65418 non-null  object        \n",
      " 12  pledged        65418 non-null  float64       \n",
      "dtypes: datetime64[ns](2), float64(3), int64(2), object(6)\n",
      "memory usage: 6.5+ MB\n"
     ]
    }
   ],
   "source": [
    "projects_df.info()"
   ]
  },
  {
   "cell_type": "markdown",
   "metadata": {
    "id": "kk_xBp3AgSDa"
   },
   "source": [
    "You can see that there are several numeric columns and a couple of date columns. There's also some categorical data. Most importantly, though, there are no nulls in any columns except *usd_pledged*. Notice that each column has 65,418 values, except *usd_pledged*, which has 64,673 values. If you are going to use that column in your analysis, you'll need to deal with those nulls.  \n",
    "\n"
   ]
  },
  {
   "cell_type": "code",
   "execution_count": null,
   "metadata": {
    "colab": {
     "base_uri": "https://localhost:8080/",
     "height": 337
    },
    "id": "UYfeOigTgtEo",
    "outputId": "2e46f6bb-7bb7-4a2c-c1aa-383c270b0380"
   },
   "outputs": [
    {
     "data": {
      "text/html": [
       "\n",
       "  <div id=\"df-f6d06b71-ab4d-47fd-b6e1-1d7e27fbe0ef\">\n",
       "    <div class=\"colab-df-container\">\n",
       "      <div>\n",
       "<style scoped>\n",
       "    .dataframe tbody tr th:only-of-type {\n",
       "        vertical-align: middle;\n",
       "    }\n",
       "\n",
       "    .dataframe tbody tr th {\n",
       "        vertical-align: top;\n",
       "    }\n",
       "\n",
       "    .dataframe thead th {\n",
       "        text-align: right;\n",
       "    }\n",
       "</style>\n",
       "<table border=\"1\" class=\"dataframe\">\n",
       "  <thead>\n",
       "    <tr style=\"text-align: right;\">\n",
       "      <th></th>\n",
       "      <th>id</th>\n",
       "      <th>name</th>\n",
       "      <th>category</th>\n",
       "      <th>main_category</th>\n",
       "      <th>deadline</th>\n",
       "      <th>goal</th>\n",
       "      <th>launched</th>\n",
       "      <th>state</th>\n",
       "      <th>backers</th>\n",
       "      <th>country</th>\n",
       "      <th>usd_pledged</th>\n",
       "      <th>currency</th>\n",
       "      <th>pledged</th>\n",
       "    </tr>\n",
       "  </thead>\n",
       "  <tbody>\n",
       "    <tr>\n",
       "      <th>0</th>\n",
       "      <td>1147015301</td>\n",
       "      <td>\"All We Had\" Gets Into Cannes -- $10 or More G...</td>\n",
       "      <td>Documentary</td>\n",
       "      <td>Film &amp; Video</td>\n",
       "      <td>2009-05-20 21:50:00</td>\n",
       "      <td>300.0</td>\n",
       "      <td>2009-04-30 22:10:30</td>\n",
       "      <td>failed</td>\n",
       "      <td>4</td>\n",
       "      <td>US</td>\n",
       "      <td>40.00</td>\n",
       "      <td>USD</td>\n",
       "      <td>40.00</td>\n",
       "    </tr>\n",
       "    <tr>\n",
       "      <th>1</th>\n",
       "      <td>1100844465</td>\n",
       "      <td>daily digest</td>\n",
       "      <td>Documentary</td>\n",
       "      <td>Film &amp; Video</td>\n",
       "      <td>2009-06-01 02:20:00</td>\n",
       "      <td>700.0</td>\n",
       "      <td>2009-05-04 21:14:28</td>\n",
       "      <td>successful</td>\n",
       "      <td>14</td>\n",
       "      <td>US</td>\n",
       "      <td>700.00</td>\n",
       "      <td>USD</td>\n",
       "      <td>700.00</td>\n",
       "    </tr>\n",
       "    <tr>\n",
       "      <th>2</th>\n",
       "      <td>1316334968</td>\n",
       "      <td>Drive A Faster Car 2.0</td>\n",
       "      <td>Nonfiction</td>\n",
       "      <td>Publishing</td>\n",
       "      <td>2009-06-04 06:00:00</td>\n",
       "      <td>1000.0</td>\n",
       "      <td>2009-05-04 22:51:31</td>\n",
       "      <td>successful</td>\n",
       "      <td>32</td>\n",
       "      <td>US</td>\n",
       "      <td>1367.00</td>\n",
       "      <td>USD</td>\n",
       "      <td>1367.00</td>\n",
       "    </tr>\n",
       "    <tr>\n",
       "      <th>3</th>\n",
       "      <td>1304906577</td>\n",
       "      <td>Accidental to Edinburgh - PHASE 1: AIRFARE</td>\n",
       "      <td>Theater</td>\n",
       "      <td>Theater</td>\n",
       "      <td>2009-06-05 05:59:00</td>\n",
       "      <td>6000.0</td>\n",
       "      <td>2009-04-30 22:22:43</td>\n",
       "      <td>successful</td>\n",
       "      <td>24</td>\n",
       "      <td>US</td>\n",
       "      <td>6575.00</td>\n",
       "      <td>USD</td>\n",
       "      <td>6575.00</td>\n",
       "    </tr>\n",
       "    <tr>\n",
       "      <th>4</th>\n",
       "      <td>1099226462</td>\n",
       "      <td>Logical Guess Pictures' 2nd Horror Movie!</td>\n",
       "      <td>Film &amp; Video</td>\n",
       "      <td>Film &amp; Video</td>\n",
       "      <td>2009-06-06 00:45:00</td>\n",
       "      <td>500.0</td>\n",
       "      <td>2009-04-30 01:32:55</td>\n",
       "      <td>successful</td>\n",
       "      <td>22</td>\n",
       "      <td>US</td>\n",
       "      <td>501.66</td>\n",
       "      <td>USD</td>\n",
       "      <td>501.66</td>\n",
       "    </tr>\n",
       "  </tbody>\n",
       "</table>\n",
       "</div>\n",
       "      <button class=\"colab-df-convert\" onclick=\"convertToInteractive('df-f6d06b71-ab4d-47fd-b6e1-1d7e27fbe0ef')\"\n",
       "              title=\"Convert this dataframe to an interactive table.\"\n",
       "              style=\"display:none;\">\n",
       "        \n",
       "  <svg xmlns=\"http://www.w3.org/2000/svg\" height=\"24px\"viewBox=\"0 0 24 24\"\n",
       "       width=\"24px\">\n",
       "    <path d=\"M0 0h24v24H0V0z\" fill=\"none\"/>\n",
       "    <path d=\"M18.56 5.44l.94 2.06.94-2.06 2.06-.94-2.06-.94-.94-2.06-.94 2.06-2.06.94zm-11 1L8.5 8.5l.94-2.06 2.06-.94-2.06-.94L8.5 2.5l-.94 2.06-2.06.94zm10 10l.94 2.06.94-2.06 2.06-.94-2.06-.94-.94-2.06-.94 2.06-2.06.94z\"/><path d=\"M17.41 7.96l-1.37-1.37c-.4-.4-.92-.59-1.43-.59-.52 0-1.04.2-1.43.59L10.3 9.45l-7.72 7.72c-.78.78-.78 2.05 0 2.83L4 21.41c.39.39.9.59 1.41.59.51 0 1.02-.2 1.41-.59l7.78-7.78 2.81-2.81c.8-.78.8-2.07 0-2.86zM5.41 20L4 18.59l7.72-7.72 1.47 1.35L5.41 20z\"/>\n",
       "  </svg>\n",
       "      </button>\n",
       "      \n",
       "  <style>\n",
       "    .colab-df-container {\n",
       "      display:flex;\n",
       "      flex-wrap:wrap;\n",
       "      gap: 12px;\n",
       "    }\n",
       "\n",
       "    .colab-df-convert {\n",
       "      background-color: #E8F0FE;\n",
       "      border: none;\n",
       "      border-radius: 50%;\n",
       "      cursor: pointer;\n",
       "      display: none;\n",
       "      fill: #1967D2;\n",
       "      height: 32px;\n",
       "      padding: 0 0 0 0;\n",
       "      width: 32px;\n",
       "    }\n",
       "\n",
       "    .colab-df-convert:hover {\n",
       "      background-color: #E2EBFA;\n",
       "      box-shadow: 0px 1px 2px rgba(60, 64, 67, 0.3), 0px 1px 3px 1px rgba(60, 64, 67, 0.15);\n",
       "      fill: #174EA6;\n",
       "    }\n",
       "\n",
       "    [theme=dark] .colab-df-convert {\n",
       "      background-color: #3B4455;\n",
       "      fill: #D2E3FC;\n",
       "    }\n",
       "\n",
       "    [theme=dark] .colab-df-convert:hover {\n",
       "      background-color: #434B5C;\n",
       "      box-shadow: 0px 1px 3px 1px rgba(0, 0, 0, 0.15);\n",
       "      filter: drop-shadow(0px 1px 2px rgba(0, 0, 0, 0.3));\n",
       "      fill: #FFFFFF;\n",
       "    }\n",
       "  </style>\n",
       "\n",
       "      <script>\n",
       "        const buttonEl =\n",
       "          document.querySelector('#df-f6d06b71-ab4d-47fd-b6e1-1d7e27fbe0ef button.colab-df-convert');\n",
       "        buttonEl.style.display =\n",
       "          google.colab.kernel.accessAllowed ? 'block' : 'none';\n",
       "\n",
       "        async function convertToInteractive(key) {\n",
       "          const element = document.querySelector('#df-f6d06b71-ab4d-47fd-b6e1-1d7e27fbe0ef');\n",
       "          const dataTable =\n",
       "            await google.colab.kernel.invokeFunction('convertToInteractive',\n",
       "                                                     [key], {});\n",
       "          if (!dataTable) return;\n",
       "\n",
       "          const docLinkHtml = 'Like what you see? Visit the ' +\n",
       "            '<a target=\"_blank\" href=https://colab.research.google.com/notebooks/data_table.ipynb>data table notebook</a>'\n",
       "            + ' to learn more about interactive tables.';\n",
       "          element.innerHTML = '';\n",
       "          dataTable['output_type'] = 'display_data';\n",
       "          await google.colab.output.renderOutput(dataTable, element);\n",
       "          const docLink = document.createElement('div');\n",
       "          docLink.innerHTML = docLinkHtml;\n",
       "          element.appendChild(docLink);\n",
       "        }\n",
       "      </script>\n",
       "    </div>\n",
       "  </div>\n",
       "  "
      ],
      "text/plain": [
       "           id  ...  pledged\n",
       "0  1147015301  ...    40.00\n",
       "1  1100844465  ...   700.00\n",
       "2  1316334968  ...  1367.00\n",
       "3  1304906577  ...  6575.00\n",
       "4  1099226462  ...   501.66\n",
       "\n",
       "[5 rows x 13 columns]"
      ]
     },
     "execution_count": 17,
     "metadata": {},
     "output_type": "execute_result"
    }
   ],
   "source": [
    "projects_df.head()"
   ]
  },
  {
   "cell_type": "markdown",
   "metadata": {
    "id": "x3zFHFuNhXv8"
   },
   "source": [
    "Before you move on, it would be interesting to find out how many different categories exist. There are a few ways to do this."
   ]
  },
  {
   "cell_type": "code",
   "execution_count": null,
   "metadata": {
    "colab": {
     "base_uri": "https://localhost:8080/"
    },
    "id": "ORncu8jAiL5Z",
    "outputId": "2d62498e-8d77-4471-b98f-dc75646c9629"
   },
   "outputs": [
    {
     "data": {
      "text/plain": [
       "158"
      ]
     },
     "execution_count": 18,
     "metadata": {},
     "output_type": "execute_result"
    }
   ],
   "source": [
    "# Count the number of unique values in this column\n",
    "projects_df['category'].nunique()"
   ]
  },
  {
   "cell_type": "code",
   "execution_count": null,
   "metadata": {
    "colab": {
     "base_uri": "https://localhost:8080/"
    },
    "id": "P1DfsKf0iXtb",
    "outputId": "d10d81c1-1d3d-40a3-b0e6-4af86177b20d"
   },
   "outputs": [
    {
     "data": {
      "text/plain": [
       "Product Design    3444\n",
       "Documentary       2969\n",
       "Music             2740\n",
       "Shorts            2407\n",
       "Tabletop Games    2208\n",
       "Food              2126\n",
       "Video Games       2011\n",
       "Film & Video      1828\n",
       "Fiction           1670\n",
       "Fashion           1584\n",
       "Name: category, dtype: int64"
      ]
     },
     "execution_count": 19,
     "metadata": {},
     "output_type": "execute_result"
    }
   ],
   "source": [
    "# Find the frequency of each value in the column\n",
    "category_counts = projects_df['category'].value_counts()\n",
    "\n",
    "# Only print the first 10, because 158 is too many to print\n",
    "category_counts.head(10)"
   ]
  },
  {
   "cell_type": "markdown",
   "metadata": {
    "id": "Aq3FD9YPjASG"
   },
   "source": [
    "Do the same for the *main_category* column."
   ]
  },
  {
   "cell_type": "code",
   "execution_count": null,
   "metadata": {
    "colab": {
     "base_uri": "https://localhost:8080/"
    },
    "id": "XXtvfjdtjQ5g",
    "outputId": "f36a220e-70c4-41e5-883b-02708881bc81"
   },
   "outputs": [
    {
     "data": {
      "text/plain": [
       "15"
      ]
     },
     "execution_count": 20,
     "metadata": {},
     "output_type": "execute_result"
    }
   ],
   "source": [
    "projects_df['main_category'].nunique()"
   ]
  },
  {
   "cell_type": "code",
   "execution_count": null,
   "metadata": {
    "colab": {
     "base_uri": "https://localhost:8080/"
    },
    "id": "akJWmvGEjE_V",
    "outputId": "570b6b8f-d8c3-4e1d-a8ed-11e16e075a73"
   },
   "outputs": [
    {
     "data": {
      "text/plain": [
       "Film & Video    11666\n",
       "Music            9395\n",
       "Publishing       6901\n",
       "Games            5739\n",
       "Technology       5328\n",
       "Art              4843\n",
       "Design           4798\n",
       "Food             4343\n",
       "Fashion          3700\n",
       "Theater          2015\n",
       "Photography      1933\n",
       "Comics           1791\n",
       "Crafts           1474\n",
       "Journalism        811\n",
       "Dance             681\n",
       "Name: main_category, dtype: int64"
      ]
     },
     "execution_count": 21,
     "metadata": {},
     "output_type": "execute_result"
    }
   ],
   "source": [
    "main_category_counts = projects_df['main_category'].value_counts()\n",
    "\n",
    "# There are only 15 main categories, so print them all.\n",
    "main_category_counts"
   ]
  },
  {
   "cell_type": "markdown",
   "metadata": {
    "id": "yXvBUEaFjhzl"
   },
   "source": [
    "The *state*, *currency*, and *country* columns also look like they have categorical data. See if there's anything interesting going on there."
   ]
  },
  {
   "cell_type": "code",
   "execution_count": null,
   "metadata": {
    "colab": {
     "base_uri": "https://localhost:8080/"
    },
    "id": "7Uauh-ZbjwtC",
    "outputId": "87bf5202-2688-4b84-c6bc-6d879f0aad68"
   },
   "outputs": [
    {
     "data": {
      "text/plain": [
       "22"
      ]
     },
     "execution_count": 22,
     "metadata": {},
     "output_type": "execute_result"
    }
   ],
   "source": [
    "# How many countries?\n",
    "projects_df['country'].nunique()"
   ]
  },
  {
   "cell_type": "code",
   "execution_count": null,
   "metadata": {
    "colab": {
     "base_uri": "https://localhost:8080/"
    },
    "id": "6Ag293Rgj43h",
    "outputId": "0d8c94b9-aac9-4c31-cb73-6c9d0d16adfc"
   },
   "outputs": [
    {
     "data": {
      "text/plain": [
       "US      52071\n",
       "GB       5617\n",
       "CA       2404\n",
       "AU       1258\n",
       "N,\"0      744\n",
       "DE        538\n",
       "NL        457\n",
       "FR        397\n",
       "IT        374\n",
       "ES        294\n",
       "SE        267\n",
       "NZ        236\n",
       "DK        157\n",
       "NO        120\n",
       "IE         99\n",
       "AT         98\n",
       "BE         90\n",
       "CH         88\n",
       "MX         43\n",
       "SG         29\n",
       "HK         26\n",
       "LU         11\n",
       "Name: country, dtype: int64"
      ]
     },
     "execution_count": 23,
     "metadata": {},
     "output_type": "execute_result"
    }
   ],
   "source": [
    "# How are the projects distributed over the countries?\n",
    "country_counts = projects_df['country'].value_counts()\n",
    "country_counts"
   ]
  },
  {
   "cell_type": "markdown",
   "metadata": {
    "id": "0SL0Dr27kVB1"
   },
   "source": [
    "So although the majority of projects are from the US, there are many other countries represented. Now, examine the currency."
   ]
  },
  {
   "cell_type": "code",
   "execution_count": null,
   "metadata": {
    "colab": {
     "base_uri": "https://localhost:8080/"
    },
    "id": "7a0umqcwkgcb",
    "outputId": "6d9cbcca-d5c9-40b3-9eed-b75d136c237c"
   },
   "outputs": [
    {
     "data": {
      "text/plain": [
       "13"
      ]
     },
     "execution_count": 24,
     "metadata": {},
     "output_type": "execute_result"
    }
   ],
   "source": [
    "projects_df['currency'].nunique()"
   ]
  },
  {
   "cell_type": "code",
   "execution_count": null,
   "metadata": {
    "colab": {
     "base_uri": "https://localhost:8080/"
    },
    "id": "Sy_TxE6YknaL",
    "outputId": "863f01d7-9677-4f61-fdf3-87262c0f8804"
   },
   "outputs": [
    {
     "data": {
      "text/plain": [
       "USD    52597\n",
       "GBP     5722\n",
       "CAD     2445\n",
       "EUR     2399\n",
       "AUD     1271\n",
       "SEK      271\n",
       "NZD      241\n",
       "DKK      163\n",
       "NOK      123\n",
       "CHF       88\n",
       "MXN       43\n",
       "SGD       29\n",
       "HKD       26\n",
       "Name: currency, dtype: int64"
      ]
     },
     "execution_count": 25,
     "metadata": {},
     "output_type": "execute_result"
    }
   ],
   "source": [
    "currency_counts = projects_df['currency'].value_counts()\n",
    "currency_counts"
   ]
  },
  {
   "cell_type": "markdown",
   "metadata": {
    "id": "q4bAAZ3wkwWe"
   },
   "source": [
    "As expected, most projects use US dollars. However, many others use a different currency. This is an important discovery. Before you do any sort of analysis on money, you need to ensure that you are working with the same currency. Trying to find the mean would be meaningless if the amounts are in different currencies. The *usd_pledged* column is the amount of money pledged converted to USD, but the *pledged* and *goal* columns are in the specified currency. Before you solve that problem, see how many different states are in the *state* column.\n"
   ]
  },
  {
   "cell_type": "code",
   "execution_count": null,
   "metadata": {
    "colab": {
     "base_uri": "https://localhost:8080/"
    },
    "id": "4npwMwf_l-0I",
    "outputId": "6624cf9b-0540-4629-b1a0-f80b14beb40e"
   },
   "outputs": [
    {
     "data": {
      "text/plain": [
       "6"
      ]
     },
     "execution_count": 26,
     "metadata": {},
     "output_type": "execute_result"
    }
   ],
   "source": [
    "projects_df['state'].nunique()"
   ]
  },
  {
   "cell_type": "code",
   "execution_count": null,
   "metadata": {
    "colab": {
     "base_uri": "https://localhost:8080/"
    },
    "id": "AopCyh7zmMVe",
    "outputId": "cc974eec-3c02-4749-f63c-bc03681577ca"
   },
   "outputs": [
    {
     "data": {
      "text/plain": [
       "failed        33922\n",
       "successful    23125\n",
       "canceled       6427\n",
       "live            938\n",
       "undefined       695\n",
       "suspended       311\n",
       "Name: state, dtype: int64"
      ]
     },
     "execution_count": 27,
     "metadata": {},
     "output_type": "execute_result"
    }
   ],
   "source": [
    "state_counts = projects_df['state'].value_counts()\n",
    "state_counts"
   ]
  },
  {
   "cell_type": "markdown",
   "metadata": {
    "id": "j6qH2KQDBxNz"
   },
   "source": [
    "## Handling nulls\n",
    "\n",
    "Earlier, you saw that one of the columns has some null values. If that column is significant to your analysis, then you need to do something about those null values. There are several options:\n",
    "\n",
    " - Set a default value\n",
    " - Try to \"guess\" an appropriate value\n",
    " - Delete the rows altogether\n",
    " \n",
    "Of course, the choice depends on the data and the type of analysis that you wish to perform. In this example, the nulls occur in the *usd_pledged* column. It might help if you looked at those rows to see what that data looks like.\n",
    " \n",
    "The pandas library has a built-in `isnull()` method to help find nulls across all columns in the DataFrame."
   ]
  },
  {
   "cell_type": "code",
   "execution_count": null,
   "metadata": {
    "colab": {
     "base_uri": "https://localhost:8080/",
     "height": 598
    },
    "id": "xZ0ui77Cml9W",
    "outputId": "602fa8e7-5c3c-406b-bc88-65fc8e39d72c"
   },
   "outputs": [
    {
     "data": {
      "text/html": [
       "\n",
       "  <div id=\"df-3b6208d9-a88e-4b25-934b-a311dcd840c7\">\n",
       "    <div class=\"colab-df-container\">\n",
       "      <div>\n",
       "<style scoped>\n",
       "    .dataframe tbody tr th:only-of-type {\n",
       "        vertical-align: middle;\n",
       "    }\n",
       "\n",
       "    .dataframe tbody tr th {\n",
       "        vertical-align: top;\n",
       "    }\n",
       "\n",
       "    .dataframe thead th {\n",
       "        text-align: right;\n",
       "    }\n",
       "</style>\n",
       "<table border=\"1\" class=\"dataframe\">\n",
       "  <thead>\n",
       "    <tr style=\"text-align: right;\">\n",
       "      <th></th>\n",
       "      <th>id</th>\n",
       "      <th>name</th>\n",
       "      <th>category</th>\n",
       "      <th>main_category</th>\n",
       "      <th>deadline</th>\n",
       "      <th>goal</th>\n",
       "      <th>launched</th>\n",
       "      <th>state</th>\n",
       "      <th>backers</th>\n",
       "      <th>country</th>\n",
       "      <th>usd_pledged</th>\n",
       "      <th>currency</th>\n",
       "      <th>pledged</th>\n",
       "    </tr>\n",
       "  </thead>\n",
       "  <tbody>\n",
       "    <tr>\n",
       "      <th>9490</th>\n",
       "      <td>1189637889</td>\n",
       "      <td>\"Natural Born Hooker\"</td>\n",
       "      <td>Theater</td>\n",
       "      <td>Theater</td>\n",
       "      <td>2012-04-24 08:59:00</td>\n",
       "      <td>25000.0</td>\n",
       "      <td>2012-03-14 19:05:44</td>\n",
       "      <td>undefined</td>\n",
       "      <td>0</td>\n",
       "      <td>N,\"0</td>\n",
       "      <td>NaN</td>\n",
       "      <td>USD</td>\n",
       "      <td>2621.00</td>\n",
       "    </tr>\n",
       "    <tr>\n",
       "      <th>15111</th>\n",
       "      <td>1244477824</td>\n",
       "      <td>Statpedia - The Collaborative Search Engine fo...</td>\n",
       "      <td>Software</td>\n",
       "      <td>Technology</td>\n",
       "      <td>2012-12-14 10:48:14</td>\n",
       "      <td>500.0</td>\n",
       "      <td>2012-11-14 10:48:14</td>\n",
       "      <td>undefined</td>\n",
       "      <td>0</td>\n",
       "      <td>N,\"0</td>\n",
       "      <td>NaN</td>\n",
       "      <td>USD</td>\n",
       "      <td>500.00</td>\n",
       "    </tr>\n",
       "    <tr>\n",
       "      <th>17484</th>\n",
       "      <td>1084993156</td>\n",
       "      <td>Willy Tea, Chris Doud and Chums: The Children'...</td>\n",
       "      <td>Music</td>\n",
       "      <td>Music</td>\n",
       "      <td>2013-04-09 06:06:11</td>\n",
       "      <td>3750.0</td>\n",
       "      <td>2013-03-26 05:06:11</td>\n",
       "      <td>successful</td>\n",
       "      <td>0</td>\n",
       "      <td>N,\"0</td>\n",
       "      <td>NaN</td>\n",
       "      <td>USD</td>\n",
       "      <td>4593.00</td>\n",
       "    </tr>\n",
       "    <tr>\n",
       "      <th>17532</th>\n",
       "      <td>1379649454</td>\n",
       "      <td>Juiette Z. Payne presents debut EP \"Eternal Da...</td>\n",
       "      <td>Music</td>\n",
       "      <td>Music</td>\n",
       "      <td>2013-04-11 15:50:25</td>\n",
       "      <td>5000.0</td>\n",
       "      <td>2013-03-02 15:50:25</td>\n",
       "      <td>successful</td>\n",
       "      <td>0</td>\n",
       "      <td>N,\"0</td>\n",
       "      <td>NaN</td>\n",
       "      <td>USD</td>\n",
       "      <td>5250.00</td>\n",
       "    </tr>\n",
       "    <tr>\n",
       "      <th>27334</th>\n",
       "      <td>1349042579</td>\n",
       "      <td>O'Films Production Launch!</td>\n",
       "      <td>Film &amp; Video</td>\n",
       "      <td>Film &amp; Video</td>\n",
       "      <td>2014-04-30 02:58:25</td>\n",
       "      <td>6000.0</td>\n",
       "      <td>2014-04-08 02:58:25</td>\n",
       "      <td>undefined</td>\n",
       "      <td>0</td>\n",
       "      <td>N,\"0</td>\n",
       "      <td>NaN</td>\n",
       "      <td>USD</td>\n",
       "      <td>6168.00</td>\n",
       "    </tr>\n",
       "    <tr>\n",
       "      <th>27443</th>\n",
       "      <td>1205956740</td>\n",
       "      <td>Short Film - \"The Man Who Choked\"</td>\n",
       "      <td>Film &amp; Video</td>\n",
       "      <td>Film &amp; Video</td>\n",
       "      <td>2014-05-02 12:47:00</td>\n",
       "      <td>1000.0</td>\n",
       "      <td>2014-04-16 13:21:21</td>\n",
       "      <td>undefined</td>\n",
       "      <td>0</td>\n",
       "      <td>N,\"0</td>\n",
       "      <td>NaN</td>\n",
       "      <td>GBP</td>\n",
       "      <td>1042.00</td>\n",
       "    </tr>\n",
       "    <tr>\n",
       "      <th>27522</th>\n",
       "      <td>1125500286</td>\n",
       "      <td>All About Amy</td>\n",
       "      <td>Film &amp; Video</td>\n",
       "      <td>Film &amp; Video</td>\n",
       "      <td>2014-05-04 17:41:13</td>\n",
       "      <td>3000.0</td>\n",
       "      <td>2014-04-04 17:41:13</td>\n",
       "      <td>undefined</td>\n",
       "      <td>0</td>\n",
       "      <td>N,\"0</td>\n",
       "      <td>NaN</td>\n",
       "      <td>USD</td>\n",
       "      <td>3225.00</td>\n",
       "    </tr>\n",
       "    <tr>\n",
       "      <th>27574</th>\n",
       "      <td>1292835145</td>\n",
       "      <td>WonderQuest ~ A Feature Length Music Film</td>\n",
       "      <td>Film &amp; Video</td>\n",
       "      <td>Film &amp; Video</td>\n",
       "      <td>2014-05-06 05:12:41</td>\n",
       "      <td>1111.0</td>\n",
       "      <td>2014-04-05 05:12:41</td>\n",
       "      <td>undefined</td>\n",
       "      <td>0</td>\n",
       "      <td>N,\"0</td>\n",
       "      <td>NaN</td>\n",
       "      <td>USD</td>\n",
       "      <td>3032.88</td>\n",
       "    </tr>\n",
       "    <tr>\n",
       "      <th>27602</th>\n",
       "      <td>1092574678</td>\n",
       "      <td>Pixelate Film Festival 2014</td>\n",
       "      <td>Film &amp; Video</td>\n",
       "      <td>Film &amp; Video</td>\n",
       "      <td>2014-05-07 13:37:16</td>\n",
       "      <td>1500.0</td>\n",
       "      <td>2014-04-09 13:37:16</td>\n",
       "      <td>undefined</td>\n",
       "      <td>0</td>\n",
       "      <td>N,\"0</td>\n",
       "      <td>NaN</td>\n",
       "      <td>GBP</td>\n",
       "      <td>1552.00</td>\n",
       "    </tr>\n",
       "    <tr>\n",
       "      <th>27755</th>\n",
       "      <td>1061706792</td>\n",
       "      <td>Zombie Shuffle feature film</td>\n",
       "      <td>Film &amp; Video</td>\n",
       "      <td>Film &amp; Video</td>\n",
       "      <td>2014-05-12 05:59:00</td>\n",
       "      <td>5000.0</td>\n",
       "      <td>2014-04-09 16:12:49</td>\n",
       "      <td>undefined</td>\n",
       "      <td>0</td>\n",
       "      <td>N,\"0</td>\n",
       "      <td>NaN</td>\n",
       "      <td>USD</td>\n",
       "      <td>5305.00</td>\n",
       "    </tr>\n",
       "  </tbody>\n",
       "</table>\n",
       "</div>\n",
       "      <button class=\"colab-df-convert\" onclick=\"convertToInteractive('df-3b6208d9-a88e-4b25-934b-a311dcd840c7')\"\n",
       "              title=\"Convert this dataframe to an interactive table.\"\n",
       "              style=\"display:none;\">\n",
       "        \n",
       "  <svg xmlns=\"http://www.w3.org/2000/svg\" height=\"24px\"viewBox=\"0 0 24 24\"\n",
       "       width=\"24px\">\n",
       "    <path d=\"M0 0h24v24H0V0z\" fill=\"none\"/>\n",
       "    <path d=\"M18.56 5.44l.94 2.06.94-2.06 2.06-.94-2.06-.94-.94-2.06-.94 2.06-2.06.94zm-11 1L8.5 8.5l.94-2.06 2.06-.94-2.06-.94L8.5 2.5l-.94 2.06-2.06.94zm10 10l.94 2.06.94-2.06 2.06-.94-2.06-.94-.94-2.06-.94 2.06-2.06.94z\"/><path d=\"M17.41 7.96l-1.37-1.37c-.4-.4-.92-.59-1.43-.59-.52 0-1.04.2-1.43.59L10.3 9.45l-7.72 7.72c-.78.78-.78 2.05 0 2.83L4 21.41c.39.39.9.59 1.41.59.51 0 1.02-.2 1.41-.59l7.78-7.78 2.81-2.81c.8-.78.8-2.07 0-2.86zM5.41 20L4 18.59l7.72-7.72 1.47 1.35L5.41 20z\"/>\n",
       "  </svg>\n",
       "      </button>\n",
       "      \n",
       "  <style>\n",
       "    .colab-df-container {\n",
       "      display:flex;\n",
       "      flex-wrap:wrap;\n",
       "      gap: 12px;\n",
       "    }\n",
       "\n",
       "    .colab-df-convert {\n",
       "      background-color: #E8F0FE;\n",
       "      border: none;\n",
       "      border-radius: 50%;\n",
       "      cursor: pointer;\n",
       "      display: none;\n",
       "      fill: #1967D2;\n",
       "      height: 32px;\n",
       "      padding: 0 0 0 0;\n",
       "      width: 32px;\n",
       "    }\n",
       "\n",
       "    .colab-df-convert:hover {\n",
       "      background-color: #E2EBFA;\n",
       "      box-shadow: 0px 1px 2px rgba(60, 64, 67, 0.3), 0px 1px 3px 1px rgba(60, 64, 67, 0.15);\n",
       "      fill: #174EA6;\n",
       "    }\n",
       "\n",
       "    [theme=dark] .colab-df-convert {\n",
       "      background-color: #3B4455;\n",
       "      fill: #D2E3FC;\n",
       "    }\n",
       "\n",
       "    [theme=dark] .colab-df-convert:hover {\n",
       "      background-color: #434B5C;\n",
       "      box-shadow: 0px 1px 3px 1px rgba(0, 0, 0, 0.15);\n",
       "      filter: drop-shadow(0px 1px 2px rgba(0, 0, 0, 0.3));\n",
       "      fill: #FFFFFF;\n",
       "    }\n",
       "  </style>\n",
       "\n",
       "      <script>\n",
       "        const buttonEl =\n",
       "          document.querySelector('#df-3b6208d9-a88e-4b25-934b-a311dcd840c7 button.colab-df-convert');\n",
       "        buttonEl.style.display =\n",
       "          google.colab.kernel.accessAllowed ? 'block' : 'none';\n",
       "\n",
       "        async function convertToInteractive(key) {\n",
       "          const element = document.querySelector('#df-3b6208d9-a88e-4b25-934b-a311dcd840c7');\n",
       "          const dataTable =\n",
       "            await google.colab.kernel.invokeFunction('convertToInteractive',\n",
       "                                                     [key], {});\n",
       "          if (!dataTable) return;\n",
       "\n",
       "          const docLinkHtml = 'Like what you see? Visit the ' +\n",
       "            '<a target=\"_blank\" href=https://colab.research.google.com/notebooks/data_table.ipynb>data table notebook</a>'\n",
       "            + ' to learn more about interactive tables.';\n",
       "          element.innerHTML = '';\n",
       "          dataTable['output_type'] = 'display_data';\n",
       "          await google.colab.output.renderOutput(dataTable, element);\n",
       "          const docLink = document.createElement('div');\n",
       "          docLink.innerHTML = docLinkHtml;\n",
       "          element.appendChild(docLink);\n",
       "        }\n",
       "      </script>\n",
       "    </div>\n",
       "  </div>\n",
       "  "
      ],
      "text/plain": [
       "               id  ...  pledged\n",
       "9490   1189637889  ...  2621.00\n",
       "15111  1244477824  ...   500.00\n",
       "17484  1084993156  ...  4593.00\n",
       "17532  1379649454  ...  5250.00\n",
       "27334  1349042579  ...  6168.00\n",
       "27443  1205956740  ...  1042.00\n",
       "27522  1125500286  ...  3225.00\n",
       "27574  1292835145  ...  3032.88\n",
       "27602  1092574678  ...  1552.00\n",
       "27755  1061706792  ...  5305.00\n",
       "\n",
       "[10 rows x 13 columns]"
      ]
     },
     "execution_count": 28,
     "metadata": {},
     "output_type": "execute_result"
    }
   ],
   "source": [
    "null_rows = projects_df[projects_df.isnull().any(axis=1)]\n",
    "null_rows.head(10)"
   ]
  },
  {
   "cell_type": "code",
   "execution_count": null,
   "metadata": {
    "colab": {
     "base_uri": "https://localhost:8080/"
    },
    "id": "MT-7nw_OC8vq",
    "outputId": "677698b7-1457-49bc-fd4c-004216d01550"
   },
   "outputs": [
    {
     "name": "stdout",
     "output_type": "stream",
     "text": [
      "<class 'pandas.core.frame.DataFrame'>\n",
      "Int64Index: 745 entries, 9490 to 59365\n",
      "Data columns (total 13 columns):\n",
      " #   Column         Non-Null Count  Dtype         \n",
      "---  ------         --------------  -----         \n",
      " 0   id             745 non-null    int64         \n",
      " 1   name           745 non-null    object        \n",
      " 2   category       745 non-null    object        \n",
      " 3   main_category  745 non-null    object        \n",
      " 4   deadline       745 non-null    datetime64[ns]\n",
      " 5   goal           745 non-null    float64       \n",
      " 6   launched       745 non-null    datetime64[ns]\n",
      " 7   state          745 non-null    object        \n",
      " 8   backers        745 non-null    int64         \n",
      " 9   country        745 non-null    object        \n",
      " 10  usd_pledged    0 non-null      float64       \n",
      " 11  currency       745 non-null    object        \n",
      " 12  pledged        745 non-null    float64       \n",
      "dtypes: datetime64[ns](2), float64(3), int64(2), object(6)\n",
      "memory usage: 81.5+ KB\n"
     ]
    }
   ],
   "source": [
    "null_rows.info()"
   ]
  },
  {
   "cell_type": "markdown",
   "metadata": {
    "id": "FVpWTnOADEFE"
   },
   "source": [
    "In a real-life situation, you may be able to go back to the source of this data and find out why the data is like this. For example, the *country* column appears to be broken, even though it contains a value. And the state seems to be undefined for many of these rows. There are only 745 problem rows, so it may be better for your analysis if you dropped those rows altogether.\n",
    "\n",
    "If you choose to place a default value in these columns, you could use the `fillna()` method to replace all `NaN` values with a specific value. For example, to replace all `NaN` values with `0`, you could run the following code:"
   ]
  },
  {
   "cell_type": "code",
   "execution_count": null,
   "metadata": {
    "colab": {
     "base_uri": "https://localhost:8080/",
     "height": 598
    },
    "id": "Y9olZCNbELf-",
    "outputId": "fc5541fe-a9a4-43cf-98a1-40ccf22e2df6"
   },
   "outputs": [
    {
     "data": {
      "text/html": [
       "\n",
       "  <div id=\"df-3d36625a-e081-4ad3-a8f6-629fb95d890d\">\n",
       "    <div class=\"colab-df-container\">\n",
       "      <div>\n",
       "<style scoped>\n",
       "    .dataframe tbody tr th:only-of-type {\n",
       "        vertical-align: middle;\n",
       "    }\n",
       "\n",
       "    .dataframe tbody tr th {\n",
       "        vertical-align: top;\n",
       "    }\n",
       "\n",
       "    .dataframe thead th {\n",
       "        text-align: right;\n",
       "    }\n",
       "</style>\n",
       "<table border=\"1\" class=\"dataframe\">\n",
       "  <thead>\n",
       "    <tr style=\"text-align: right;\">\n",
       "      <th></th>\n",
       "      <th>id</th>\n",
       "      <th>name</th>\n",
       "      <th>category</th>\n",
       "      <th>main_category</th>\n",
       "      <th>deadline</th>\n",
       "      <th>goal</th>\n",
       "      <th>launched</th>\n",
       "      <th>state</th>\n",
       "      <th>backers</th>\n",
       "      <th>country</th>\n",
       "      <th>usd_pledged</th>\n",
       "      <th>currency</th>\n",
       "      <th>pledged</th>\n",
       "    </tr>\n",
       "  </thead>\n",
       "  <tbody>\n",
       "    <tr>\n",
       "      <th>9490</th>\n",
       "      <td>1189637889</td>\n",
       "      <td>\"Natural Born Hooker\"</td>\n",
       "      <td>Theater</td>\n",
       "      <td>Theater</td>\n",
       "      <td>2012-04-24 08:59:00</td>\n",
       "      <td>25000.0</td>\n",
       "      <td>2012-03-14 19:05:44</td>\n",
       "      <td>undefined</td>\n",
       "      <td>0</td>\n",
       "      <td>N,\"0</td>\n",
       "      <td>0.0</td>\n",
       "      <td>USD</td>\n",
       "      <td>2621.00</td>\n",
       "    </tr>\n",
       "    <tr>\n",
       "      <th>15111</th>\n",
       "      <td>1244477824</td>\n",
       "      <td>Statpedia - The Collaborative Search Engine fo...</td>\n",
       "      <td>Software</td>\n",
       "      <td>Technology</td>\n",
       "      <td>2012-12-14 10:48:14</td>\n",
       "      <td>500.0</td>\n",
       "      <td>2012-11-14 10:48:14</td>\n",
       "      <td>undefined</td>\n",
       "      <td>0</td>\n",
       "      <td>N,\"0</td>\n",
       "      <td>0.0</td>\n",
       "      <td>USD</td>\n",
       "      <td>500.00</td>\n",
       "    </tr>\n",
       "    <tr>\n",
       "      <th>17484</th>\n",
       "      <td>1084993156</td>\n",
       "      <td>Willy Tea, Chris Doud and Chums: The Children'...</td>\n",
       "      <td>Music</td>\n",
       "      <td>Music</td>\n",
       "      <td>2013-04-09 06:06:11</td>\n",
       "      <td>3750.0</td>\n",
       "      <td>2013-03-26 05:06:11</td>\n",
       "      <td>successful</td>\n",
       "      <td>0</td>\n",
       "      <td>N,\"0</td>\n",
       "      <td>0.0</td>\n",
       "      <td>USD</td>\n",
       "      <td>4593.00</td>\n",
       "    </tr>\n",
       "    <tr>\n",
       "      <th>17532</th>\n",
       "      <td>1379649454</td>\n",
       "      <td>Juiette Z. Payne presents debut EP \"Eternal Da...</td>\n",
       "      <td>Music</td>\n",
       "      <td>Music</td>\n",
       "      <td>2013-04-11 15:50:25</td>\n",
       "      <td>5000.0</td>\n",
       "      <td>2013-03-02 15:50:25</td>\n",
       "      <td>successful</td>\n",
       "      <td>0</td>\n",
       "      <td>N,\"0</td>\n",
       "      <td>0.0</td>\n",
       "      <td>USD</td>\n",
       "      <td>5250.00</td>\n",
       "    </tr>\n",
       "    <tr>\n",
       "      <th>27334</th>\n",
       "      <td>1349042579</td>\n",
       "      <td>O'Films Production Launch!</td>\n",
       "      <td>Film &amp; Video</td>\n",
       "      <td>Film &amp; Video</td>\n",
       "      <td>2014-04-30 02:58:25</td>\n",
       "      <td>6000.0</td>\n",
       "      <td>2014-04-08 02:58:25</td>\n",
       "      <td>undefined</td>\n",
       "      <td>0</td>\n",
       "      <td>N,\"0</td>\n",
       "      <td>0.0</td>\n",
       "      <td>USD</td>\n",
       "      <td>6168.00</td>\n",
       "    </tr>\n",
       "    <tr>\n",
       "      <th>27443</th>\n",
       "      <td>1205956740</td>\n",
       "      <td>Short Film - \"The Man Who Choked\"</td>\n",
       "      <td>Film &amp; Video</td>\n",
       "      <td>Film &amp; Video</td>\n",
       "      <td>2014-05-02 12:47:00</td>\n",
       "      <td>1000.0</td>\n",
       "      <td>2014-04-16 13:21:21</td>\n",
       "      <td>undefined</td>\n",
       "      <td>0</td>\n",
       "      <td>N,\"0</td>\n",
       "      <td>0.0</td>\n",
       "      <td>GBP</td>\n",
       "      <td>1042.00</td>\n",
       "    </tr>\n",
       "    <tr>\n",
       "      <th>27522</th>\n",
       "      <td>1125500286</td>\n",
       "      <td>All About Amy</td>\n",
       "      <td>Film &amp; Video</td>\n",
       "      <td>Film &amp; Video</td>\n",
       "      <td>2014-05-04 17:41:13</td>\n",
       "      <td>3000.0</td>\n",
       "      <td>2014-04-04 17:41:13</td>\n",
       "      <td>undefined</td>\n",
       "      <td>0</td>\n",
       "      <td>N,\"0</td>\n",
       "      <td>0.0</td>\n",
       "      <td>USD</td>\n",
       "      <td>3225.00</td>\n",
       "    </tr>\n",
       "    <tr>\n",
       "      <th>27574</th>\n",
       "      <td>1292835145</td>\n",
       "      <td>WonderQuest ~ A Feature Length Music Film</td>\n",
       "      <td>Film &amp; Video</td>\n",
       "      <td>Film &amp; Video</td>\n",
       "      <td>2014-05-06 05:12:41</td>\n",
       "      <td>1111.0</td>\n",
       "      <td>2014-04-05 05:12:41</td>\n",
       "      <td>undefined</td>\n",
       "      <td>0</td>\n",
       "      <td>N,\"0</td>\n",
       "      <td>0.0</td>\n",
       "      <td>USD</td>\n",
       "      <td>3032.88</td>\n",
       "    </tr>\n",
       "    <tr>\n",
       "      <th>27602</th>\n",
       "      <td>1092574678</td>\n",
       "      <td>Pixelate Film Festival 2014</td>\n",
       "      <td>Film &amp; Video</td>\n",
       "      <td>Film &amp; Video</td>\n",
       "      <td>2014-05-07 13:37:16</td>\n",
       "      <td>1500.0</td>\n",
       "      <td>2014-04-09 13:37:16</td>\n",
       "      <td>undefined</td>\n",
       "      <td>0</td>\n",
       "      <td>N,\"0</td>\n",
       "      <td>0.0</td>\n",
       "      <td>GBP</td>\n",
       "      <td>1552.00</td>\n",
       "    </tr>\n",
       "    <tr>\n",
       "      <th>27755</th>\n",
       "      <td>1061706792</td>\n",
       "      <td>Zombie Shuffle feature film</td>\n",
       "      <td>Film &amp; Video</td>\n",
       "      <td>Film &amp; Video</td>\n",
       "      <td>2014-05-12 05:59:00</td>\n",
       "      <td>5000.0</td>\n",
       "      <td>2014-04-09 16:12:49</td>\n",
       "      <td>undefined</td>\n",
       "      <td>0</td>\n",
       "      <td>N,\"0</td>\n",
       "      <td>0.0</td>\n",
       "      <td>USD</td>\n",
       "      <td>5305.00</td>\n",
       "    </tr>\n",
       "  </tbody>\n",
       "</table>\n",
       "</div>\n",
       "      <button class=\"colab-df-convert\" onclick=\"convertToInteractive('df-3d36625a-e081-4ad3-a8f6-629fb95d890d')\"\n",
       "              title=\"Convert this dataframe to an interactive table.\"\n",
       "              style=\"display:none;\">\n",
       "        \n",
       "  <svg xmlns=\"http://www.w3.org/2000/svg\" height=\"24px\"viewBox=\"0 0 24 24\"\n",
       "       width=\"24px\">\n",
       "    <path d=\"M0 0h24v24H0V0z\" fill=\"none\"/>\n",
       "    <path d=\"M18.56 5.44l.94 2.06.94-2.06 2.06-.94-2.06-.94-.94-2.06-.94 2.06-2.06.94zm-11 1L8.5 8.5l.94-2.06 2.06-.94-2.06-.94L8.5 2.5l-.94 2.06-2.06.94zm10 10l.94 2.06.94-2.06 2.06-.94-2.06-.94-.94-2.06-.94 2.06-2.06.94z\"/><path d=\"M17.41 7.96l-1.37-1.37c-.4-.4-.92-.59-1.43-.59-.52 0-1.04.2-1.43.59L10.3 9.45l-7.72 7.72c-.78.78-.78 2.05 0 2.83L4 21.41c.39.39.9.59 1.41.59.51 0 1.02-.2 1.41-.59l7.78-7.78 2.81-2.81c.8-.78.8-2.07 0-2.86zM5.41 20L4 18.59l7.72-7.72 1.47 1.35L5.41 20z\"/>\n",
       "  </svg>\n",
       "      </button>\n",
       "      \n",
       "  <style>\n",
       "    .colab-df-container {\n",
       "      display:flex;\n",
       "      flex-wrap:wrap;\n",
       "      gap: 12px;\n",
       "    }\n",
       "\n",
       "    .colab-df-convert {\n",
       "      background-color: #E8F0FE;\n",
       "      border: none;\n",
       "      border-radius: 50%;\n",
       "      cursor: pointer;\n",
       "      display: none;\n",
       "      fill: #1967D2;\n",
       "      height: 32px;\n",
       "      padding: 0 0 0 0;\n",
       "      width: 32px;\n",
       "    }\n",
       "\n",
       "    .colab-df-convert:hover {\n",
       "      background-color: #E2EBFA;\n",
       "      box-shadow: 0px 1px 2px rgba(60, 64, 67, 0.3), 0px 1px 3px 1px rgba(60, 64, 67, 0.15);\n",
       "      fill: #174EA6;\n",
       "    }\n",
       "\n",
       "    [theme=dark] .colab-df-convert {\n",
       "      background-color: #3B4455;\n",
       "      fill: #D2E3FC;\n",
       "    }\n",
       "\n",
       "    [theme=dark] .colab-df-convert:hover {\n",
       "      background-color: #434B5C;\n",
       "      box-shadow: 0px 1px 3px 1px rgba(0, 0, 0, 0.15);\n",
       "      filter: drop-shadow(0px 1px 2px rgba(0, 0, 0, 0.3));\n",
       "      fill: #FFFFFF;\n",
       "    }\n",
       "  </style>\n",
       "\n",
       "      <script>\n",
       "        const buttonEl =\n",
       "          document.querySelector('#df-3d36625a-e081-4ad3-a8f6-629fb95d890d button.colab-df-convert');\n",
       "        buttonEl.style.display =\n",
       "          google.colab.kernel.accessAllowed ? 'block' : 'none';\n",
       "\n",
       "        async function convertToInteractive(key) {\n",
       "          const element = document.querySelector('#df-3d36625a-e081-4ad3-a8f6-629fb95d890d');\n",
       "          const dataTable =\n",
       "            await google.colab.kernel.invokeFunction('convertToInteractive',\n",
       "                                                     [key], {});\n",
       "          if (!dataTable) return;\n",
       "\n",
       "          const docLinkHtml = 'Like what you see? Visit the ' +\n",
       "            '<a target=\"_blank\" href=https://colab.research.google.com/notebooks/data_table.ipynb>data table notebook</a>'\n",
       "            + ' to learn more about interactive tables.';\n",
       "          element.innerHTML = '';\n",
       "          dataTable['output_type'] = 'display_data';\n",
       "          await google.colab.output.renderOutput(dataTable, element);\n",
       "          const docLink = document.createElement('div');\n",
       "          docLink.innerHTML = docLinkHtml;\n",
       "          element.appendChild(docLink);\n",
       "        }\n",
       "      </script>\n",
       "    </div>\n",
       "  </div>\n",
       "  "
      ],
      "text/plain": [
       "               id  ...  pledged\n",
       "9490   1189637889  ...  2621.00\n",
       "15111  1244477824  ...   500.00\n",
       "17484  1084993156  ...  4593.00\n",
       "17532  1379649454  ...  5250.00\n",
       "27334  1349042579  ...  6168.00\n",
       "27443  1205956740  ...  1042.00\n",
       "27522  1125500286  ...  3225.00\n",
       "27574  1292835145  ...  3032.88\n",
       "27602  1092574678  ...  1552.00\n",
       "27755  1061706792  ...  5305.00\n",
       "\n",
       "[10 rows x 13 columns]"
      ]
     },
     "execution_count": 30,
     "metadata": {},
     "output_type": "execute_result"
    }
   ],
   "source": [
    "zero_filled = null_rows.fillna(0)\n",
    "zero_filled.head(10)"
   ]
  },
  {
   "cell_type": "markdown",
   "metadata": {
    "id": "40UGvWPGEjVh"
   },
   "source": [
    "But in this case, you would prefer to drop all the rows with `NaN`. So instead, use the `dropna()` method."
   ]
  },
  {
   "cell_type": "code",
   "execution_count": null,
   "metadata": {
    "colab": {
     "base_uri": "https://localhost:8080/"
    },
    "id": "h6IWrNMfEtKq",
    "outputId": "55afe55c-d776-4228-f711-fb5dfdc5e349"
   },
   "outputs": [
    {
     "name": "stdout",
     "output_type": "stream",
     "text": [
      "850434\n",
      "840749\n"
     ]
    }
   ],
   "source": [
    "# Print the original size of the DataFrame\n",
    "print(projects_df.size)\n",
    "\n",
    "# Drop `NaN` rows\n",
    "clean_projects = projects_df.dropna()\n",
    "\n",
    "# Print the size of the modified DataFrame\n",
    "print(clean_projects.size)"
   ]
  },
  {
   "cell_type": "markdown",
   "metadata": {
    "id": "-lMUBMZ9FakH"
   },
   "source": [
    "Now that you've cleaned your data, you're ready to perform some analysis, and you'll do that in the next lesson."
   ]
  },
  {
   "cell_type": "markdown",
   "metadata": {
    "id": "0-NGqrpg0yaf"
   },
   "source": [
    "## Bonus section (optional, but worth checking out)\n",
    "This section is optional, but you may find it helpful in some of your future lessons. Often when you load data, it will have data types that you weren't expecting or that may cause errors. For example, you may load something that you think is a number, but it's really a string.\n",
    "\n",
    "In this section, you'll load a dataset and then learn some pandas methods for converting the data types. Continue on to get started!"
   ]
  },
  {
   "cell_type": "code",
   "execution_count": null,
   "metadata": {
    "id": "Vb995Bua2hax"
   },
   "outputs": [],
   "source": [
    "import pandas as pd"
   ]
  },
  {
   "cell_type": "markdown",
   "metadata": {
    "id": "J7EjV98EwcA4"
   },
   "source": [
    "Create a pandas series with three numbers that are defined as strings, as follows:"
   ]
  },
  {
   "cell_type": "code",
   "execution_count": null,
   "metadata": {
    "id": "82MjkCBDpm4s"
   },
   "outputs": [],
   "source": [
    "ser = pd.Series(['1','2','3'], dtype=\"string\")"
   ]
  },
  {
   "cell_type": "markdown",
   "metadata": {
    "id": "Jd7gUNPXwuOw"
   },
   "source": [
    "Using the `dtype` method, check the data type of the series that you just created."
   ]
  },
  {
   "cell_type": "code",
   "execution_count": null,
   "metadata": {
    "colab": {
     "base_uri": "https://localhost:8080/"
    },
    "id": "t3_q1E0F2ykw",
    "outputId": "31398f57-a57f-43e9-e159-790f5e45c587"
   },
   "outputs": [
    {
     "data": {
      "text/plain": [
       "StringDtype"
      ]
     },
     "execution_count": 34,
     "metadata": {},
     "output_type": "execute_result"
    }
   ],
   "source": [
    "ser.dtypes"
   ]
  },
  {
   "cell_type": "markdown",
   "metadata": {
    "id": "tN95CxLew61_"
   },
   "source": [
    "You can see that your data is a string data type.\n",
    "\n",
    "Now you'll use the `astype` method to convert the data type from a string to an integer."
   ]
  },
  {
   "cell_type": "code",
   "execution_count": null,
   "metadata": {
    "colab": {
     "base_uri": "https://localhost:8080/"
    },
    "id": "fIgqlfTFrVDn",
    "outputId": "cfc19ca6-93f7-4061-8eb1-b3179464f4b0"
   },
   "outputs": [
    {
     "data": {
      "text/plain": [
       "0    1\n",
       "1    2\n",
       "2    3\n",
       "dtype: int64"
      ]
     },
     "execution_count": 35,
     "metadata": {},
     "output_type": "execute_result"
    }
   ],
   "source": [
    "ser.astype('int64')"
   ]
  },
  {
   "cell_type": "markdown",
   "metadata": {
    "id": "nLvRbHRLxSkS"
   },
   "source": [
    "This tells you that the data type is `int64`. Double-check by running the `dtypes` method again and see what you get."
   ]
  },
  {
   "cell_type": "code",
   "execution_count": null,
   "metadata": {
    "colab": {
     "base_uri": "https://localhost:8080/"
    },
    "id": "UkJJsjMBtsvW",
    "outputId": "16159be4-6799-4ba0-dd8e-82048bec43b5"
   },
   "outputs": [
    {
     "data": {
      "text/plain": [
       "StringDtype"
      ]
     },
     "execution_count": 36,
     "metadata": {},
     "output_type": "execute_result"
    }
   ],
   "source": [
    "ser.dtypes"
   ]
  },
  {
   "cell_type": "markdown",
   "metadata": {
    "id": "92p49MgpxiTN"
   },
   "source": [
    "It is telling you that it's still a string! The change that you made only applied to the cell instance where you converted the data type. In other words, it kept the original data type. To make it permanent, you'll need to reassign your series to the new data type, as follows:"
   ]
  },
  {
   "cell_type": "code",
   "execution_count": null,
   "metadata": {
    "colab": {
     "base_uri": "https://localhost:8080/"
    },
    "id": "ACCOrTI4tvab",
    "outputId": "c54cf3b5-3f75-44d7-cb12-ca2813b7c760"
   },
   "outputs": [
    {
     "data": {
      "text/plain": [
       "0    1\n",
       "1    2\n",
       "2    3\n",
       "dtype: int64"
      ]
     },
     "execution_count": 37,
     "metadata": {},
     "output_type": "execute_result"
    }
   ],
   "source": [
    "ser = ser.astype('int64')\n",
    "ser\n",
    "\n"
   ]
  },
  {
   "cell_type": "markdown",
   "metadata": {
    "id": "I7nLjR20yfAe"
   },
   "source": [
    "Now test it again using `dtypes`, and you'll see that the changes are permanent this time."
   ]
  },
  {
   "cell_type": "code",
   "execution_count": null,
   "metadata": {
    "colab": {
     "base_uri": "https://localhost:8080/"
    },
    "id": "NbRiDHN4uTxi",
    "outputId": "b355e26c-ecff-4fc7-a812-93900cb10f6c"
   },
   "outputs": [
    {
     "data": {
      "text/plain": [
       "dtype('int64')"
      ]
     },
     "execution_count": 38,
     "metadata": {},
     "output_type": "execute_result"
    }
   ],
   "source": [
    "ser.dtypes"
   ]
  },
  {
   "cell_type": "markdown",
   "metadata": {
    "id": "Or1UXS1p4jw_"
   },
   "source": [
    "## Upload a file and convert the data types\n",
    "First, make sure that the `float_numbers.csv` file that you downloaded earlier is saved to your local machine."
   ]
  },
  {
   "cell_type": "markdown",
   "metadata": {
    "id": "57I9LaaHrRwK"
   },
   "source": [
    "Then, in Colab, click the **Table of contents** tab to open the left pane."
   ]
  },
  {
   "cell_type": "markdown",
   "metadata": {
    "id": "HbqavSORqU8Z"
   },
   "source": [
    "![image.png](data:image/png;base64,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)"
   ]
  },
  {
   "cell_type": "markdown",
   "metadata": {
    "id": "ml7na0WnqpT6"
   },
   "source": [
    "Now click the **Files** icon, then **Upload to session storage**, as shown."
   ]
  },
  {
   "cell_type": "markdown",
   "metadata": {
    "id": "b3SG4KxxrCzB"
   },
   "source": [
    "![image.png](data:image/png;base64,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)"
   ]
  },
  {
   "cell_type": "markdown",
   "metadata": {
    "id": "V6L3AjK2saTe"
   },
   "source": [
    "Read your CSV file in to a DataFrame:"
   ]
  },
  {
   "cell_type": "code",
   "execution_count": null,
   "metadata": {
    "id": "GM9KBOgk2hUr"
   },
   "outputs": [],
   "source": [
    "df = pd.read_csv(\"float_numbers.csv\")"
   ]
  },
  {
   "cell_type": "markdown",
   "metadata": {
    "id": "hve7feaa7tAO"
   },
   "source": [
    "Get some information about your DataFrame:"
   ]
  },
  {
   "cell_type": "code",
   "execution_count": null,
   "metadata": {
    "colab": {
     "base_uri": "https://localhost:8080/"
    },
    "id": "VOdHHlBf2wUG",
    "outputId": "14721df7-f562-434e-9d37-027c13a94aaa"
   },
   "outputs": [
    {
     "data": {
      "text/plain": [
       "<bound method DataFrame.info of    size  cost  weight\n",
       "0   4.0   7.0     9.0\n",
       "1   6.0   8.0     3.0\n",
       "2   5.0  10.0     7.0>"
      ]
     },
     "execution_count": 40,
     "metadata": {},
     "output_type": "execute_result"
    }
   ],
   "source": [
    "df.info"
   ]
  },
  {
   "cell_type": "markdown",
   "metadata": {
    "id": "8Z3q1Q4szNeb"
   },
   "source": [
    "Check the data type:"
   ]
  },
  {
   "cell_type": "code",
   "execution_count": null,
   "metadata": {
    "colab": {
     "base_uri": "https://localhost:8080/"
    },
    "id": "htOteZ0V20Hm",
    "outputId": "1cc179f3-6d32-4a58-f4a4-47395e45b220"
   },
   "outputs": [
    {
     "data": {
      "text/plain": [
       "size      int64\n",
       "cost      int64\n",
       "weight    int64\n",
       "dtype: object"
      ]
     },
     "execution_count": 41,
     "metadata": {},
     "output_type": "execute_result"
    }
   ],
   "source": [
    "df.dtypes"
   ]
  },
  {
   "cell_type": "markdown",
   "metadata": {
    "id": "a2Fs4W7-smRO"
   },
   "source": [
    "You'll see that it is of type `int`. Using what you've learned, convert it to type `float`."
   ]
  },
  {
   "cell_type": "code",
   "execution_count": null,
   "metadata": {
    "id": "PLHZ81yC27HQ"
   },
   "outputs": [],
   "source": [
    "df = df.astype('float64')"
   ]
  },
  {
   "cell_type": "markdown",
   "metadata": {
    "id": "xJTx8QiUs65r"
   },
   "source": [
    "Again, check the data type:"
   ]
  },
  {
   "cell_type": "code",
   "execution_count": null,
   "metadata": {
    "colab": {
     "base_uri": "https://localhost:8080/"
    },
    "id": "npqMnvdWs5YH",
    "outputId": "95ad29b6-6a53-4ee9-f9c2-b0c30b49bb11"
   },
   "outputs": [
    {
     "data": {
      "text/plain": [
       "size      float64\n",
       "cost      float64\n",
       "weight    float64\n",
       "dtype: object"
      ]
     },
     "execution_count": 43,
     "metadata": {},
     "output_type": "execute_result"
    }
   ],
   "source": [
    "df.dtypes"
   ]
  },
  {
   "cell_type": "markdown",
   "metadata": {
    "id": "tC9Id-J7tEQ7"
   },
   "source": [
    "Success! Now you know how to read in a local file, and also how to convert data types!\n",
    "\n",
    "Next, you'll learn how to import a dataset from your Google Drive."
   ]
  },
  {
   "cell_type": "markdown",
   "metadata": {
    "id": "TlL_6Ys3TncX"
   },
   "source": [
    "## Importing a dataset from a Google Drive"
   ]
  },
  {
   "cell_type": "markdown",
   "metadata": {
    "id": "2gRVWznxZvTp"
   },
   "source": [
    "You just saw how to load a dataset from your local machine. But in the event that you don't have access to your local machine, there's a better way to do this so that you can access your dataset from the cloud using your Google Drive. You'll start by going to your Google account and then uploading your dataset to your Google Drive.\n",
    "\n",
    "Once your dataset is in your Google Drive, you need to tell Colab to connect to your Google Drive. That process is called *mounting*. In Colab, mounting a drive starts with running the following code:\n",
    "\n",
    "![image.png](data:image/png;base64,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)\n",
    "\n",
    "When you run this code, you will be prompted to click a URL and enter an authorization code into Colab.\n",
    "\n",
    "![image.png](data:image/png;base64,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)\n",
    "\n",
    "Then, you'll be prompted to authorize access from Google Drive File Stream into your account."
   ]
  },
  {
   "cell_type": "markdown",
   "metadata": {
    "id": "1ZgkR2yVbDUG"
   },
   "source": [
    "Click **Allow**, and then copy and paste your authorization code into Colab. You'll get a message that your drive has been mounted."
   ]
  },
  {
   "cell_type": "markdown",
   "metadata": {
    "id": "guzMSOymcdOR"
   },
   "source": [
    "Now, try this out yourself. Upload the `item_cost.csv` file to My Drive in your Google Drive, and then mount Colab to your Google Drive."
   ]
  },
  {
   "cell_type": "code",
   "execution_count": null,
   "metadata": {
    "colab": {
     "base_uri": "https://localhost:8080/"
    },
    "id": "dcjZZ8WgebGM",
    "outputId": "c490187f-295d-49f9-bf71-cb042c33a136"
   },
   "outputs": [
    {
     "name": "stdout",
     "output_type": "stream",
     "text": [
      "Mounted at /content/gdrive\n"
     ]
    }
   ],
   "source": [
    "from google.colab import drive\n",
    "drive.mount('/content/gdrive')"
   ]
  },
  {
   "cell_type": "code",
   "execution_count": null,
   "metadata": {
    "colab": {
     "base_uri": "https://localhost:8080/",
     "height": 206
    },
    "id": "9JLufr8-drqU",
    "outputId": "0c4ab866-7383-4e96-d3a8-f571dc50f6c5"
   },
   "outputs": [
    {
     "data": {
      "text/html": [
       "\n",
       "  <div id=\"df-95e15315-e0db-4df9-9aec-37bac858eda0\">\n",
       "    <div class=\"colab-df-container\">\n",
       "      <div>\n",
       "<style scoped>\n",
       "    .dataframe tbody tr th:only-of-type {\n",
       "        vertical-align: middle;\n",
       "    }\n",
       "\n",
       "    .dataframe tbody tr th {\n",
       "        vertical-align: top;\n",
       "    }\n",
       "\n",
       "    .dataframe thead th {\n",
       "        text-align: right;\n",
       "    }\n",
       "</style>\n",
       "<table border=\"1\" class=\"dataframe\">\n",
       "  <thead>\n",
       "    <tr style=\"text-align: right;\">\n",
       "      <th></th>\n",
       "      <th>item</th>\n",
       "      <th>cost</th>\n",
       "    </tr>\n",
       "  </thead>\n",
       "  <tbody>\n",
       "    <tr>\n",
       "      <th>0</th>\n",
       "      <td>book</td>\n",
       "      <td>$50</td>\n",
       "    </tr>\n",
       "    <tr>\n",
       "      <th>1</th>\n",
       "      <td>magazine</td>\n",
       "      <td>$47</td>\n",
       "    </tr>\n",
       "    <tr>\n",
       "      <th>2</th>\n",
       "      <td>coffee</td>\n",
       "      <td>$25</td>\n",
       "    </tr>\n",
       "    <tr>\n",
       "      <th>3</th>\n",
       "      <td>labels</td>\n",
       "      <td>$15</td>\n",
       "    </tr>\n",
       "    <tr>\n",
       "      <th>4</th>\n",
       "      <td>music</td>\n",
       "      <td>$79</td>\n",
       "    </tr>\n",
       "  </tbody>\n",
       "</table>\n",
       "</div>\n",
       "      <button class=\"colab-df-convert\" onclick=\"convertToInteractive('df-95e15315-e0db-4df9-9aec-37bac858eda0')\"\n",
       "              title=\"Convert this dataframe to an interactive table.\"\n",
       "              style=\"display:none;\">\n",
       "        \n",
       "  <svg xmlns=\"http://www.w3.org/2000/svg\" height=\"24px\"viewBox=\"0 0 24 24\"\n",
       "       width=\"24px\">\n",
       "    <path d=\"M0 0h24v24H0V0z\" fill=\"none\"/>\n",
       "    <path d=\"M18.56 5.44l.94 2.06.94-2.06 2.06-.94-2.06-.94-.94-2.06-.94 2.06-2.06.94zm-11 1L8.5 8.5l.94-2.06 2.06-.94-2.06-.94L8.5 2.5l-.94 2.06-2.06.94zm10 10l.94 2.06.94-2.06 2.06-.94-2.06-.94-.94-2.06-.94 2.06-2.06.94z\"/><path d=\"M17.41 7.96l-1.37-1.37c-.4-.4-.92-.59-1.43-.59-.52 0-1.04.2-1.43.59L10.3 9.45l-7.72 7.72c-.78.78-.78 2.05 0 2.83L4 21.41c.39.39.9.59 1.41.59.51 0 1.02-.2 1.41-.59l7.78-7.78 2.81-2.81c.8-.78.8-2.07 0-2.86zM5.41 20L4 18.59l7.72-7.72 1.47 1.35L5.41 20z\"/>\n",
       "  </svg>\n",
       "      </button>\n",
       "      \n",
       "  <style>\n",
       "    .colab-df-container {\n",
       "      display:flex;\n",
       "      flex-wrap:wrap;\n",
       "      gap: 12px;\n",
       "    }\n",
       "\n",
       "    .colab-df-convert {\n",
       "      background-color: #E8F0FE;\n",
       "      border: none;\n",
       "      border-radius: 50%;\n",
       "      cursor: pointer;\n",
       "      display: none;\n",
       "      fill: #1967D2;\n",
       "      height: 32px;\n",
       "      padding: 0 0 0 0;\n",
       "      width: 32px;\n",
       "    }\n",
       "\n",
       "    .colab-df-convert:hover {\n",
       "      background-color: #E2EBFA;\n",
       "      box-shadow: 0px 1px 2px rgba(60, 64, 67, 0.3), 0px 1px 3px 1px rgba(60, 64, 67, 0.15);\n",
       "      fill: #174EA6;\n",
       "    }\n",
       "\n",
       "    [theme=dark] .colab-df-convert {\n",
       "      background-color: #3B4455;\n",
       "      fill: #D2E3FC;\n",
       "    }\n",
       "\n",
       "    [theme=dark] .colab-df-convert:hover {\n",
       "      background-color: #434B5C;\n",
       "      box-shadow: 0px 1px 3px 1px rgba(0, 0, 0, 0.15);\n",
       "      filter: drop-shadow(0px 1px 2px rgba(0, 0, 0, 0.3));\n",
       "      fill: #FFFFFF;\n",
       "    }\n",
       "  </style>\n",
       "\n",
       "      <script>\n",
       "        const buttonEl =\n",
       "          document.querySelector('#df-95e15315-e0db-4df9-9aec-37bac858eda0 button.colab-df-convert');\n",
       "        buttonEl.style.display =\n",
       "          google.colab.kernel.accessAllowed ? 'block' : 'none';\n",
       "\n",
       "        async function convertToInteractive(key) {\n",
       "          const element = document.querySelector('#df-95e15315-e0db-4df9-9aec-37bac858eda0');\n",
       "          const dataTable =\n",
       "            await google.colab.kernel.invokeFunction('convertToInteractive',\n",
       "                                                     [key], {});\n",
       "          if (!dataTable) return;\n",
       "\n",
       "          const docLinkHtml = 'Like what you see? Visit the ' +\n",
       "            '<a target=\"_blank\" href=https://colab.research.google.com/notebooks/data_table.ipynb>data table notebook</a>'\n",
       "            + ' to learn more about interactive tables.';\n",
       "          element.innerHTML = '';\n",
       "          dataTable['output_type'] = 'display_data';\n",
       "          await google.colab.output.renderOutput(dataTable, element);\n",
       "          const docLink = document.createElement('div');\n",
       "          docLink.innerHTML = docLinkHtml;\n",
       "          element.appendChild(docLink);\n",
       "        }\n",
       "      </script>\n",
       "    </div>\n",
       "  </div>\n",
       "  "
      ],
      "text/plain": [
       "       item cost\n",
       "0      book  $50\n",
       "1  magazine  $47\n",
       "2    coffee  $25\n",
       "3    labels  $15\n",
       "4     music  $79"
      ]
     },
     "execution_count": 43,
     "metadata": {},
     "output_type": "execute_result"
    }
   ],
   "source": [
    "# Import pandas and read in the GDrive-mounted CSV\n",
    "\n",
    "# Import pandas if needed\n",
    "import pandas as pd\n",
    "    \n",
    "df = pd.read_csv('/content/gdrive/My Drive/item_cost.csv')\n",
    "df.head()"
   ]
  },
  {
   "cell_type": "markdown",
   "metadata": {
    "id": "_NkzQ2qHgP0k"
   },
   "source": [
    "Perfect! But now you need to strip off the dollar sign symbol `$` from each of the prices so that you are working with numbers. There are multiple ways to do this; here, use the `replace()` method to replace the `$` with nothing. Then convert it to an integer, as you did before."
   ]
  },
  {
   "cell_type": "code",
   "execution_count": null,
   "metadata": {
    "id": "zTXpxLmIgamj"
   },
   "outputs": [],
   "source": [
    "df['cost'] = df['cost'].str.replace('$', '')\n",
    "df['cost'] = df['cost'].astype(int)"
   ]
  },
  {
   "cell_type": "code",
   "execution_count": null,
   "metadata": {
    "colab": {
     "base_uri": "https://localhost:8080/",
     "height": 206
    },
    "id": "41HBcyOWhQPC",
    "outputId": "c18320e3-2803-4c04-dcce-d43b936a4038"
   },
   "outputs": [
    {
     "data": {
      "text/html": [
       "\n",
       "  <div id=\"df-7f6c8752-1398-4f3d-84dd-49ad9ad986e7\">\n",
       "    <div class=\"colab-df-container\">\n",
       "      <div>\n",
       "<style scoped>\n",
       "    .dataframe tbody tr th:only-of-type {\n",
       "        vertical-align: middle;\n",
       "    }\n",
       "\n",
       "    .dataframe tbody tr th {\n",
       "        vertical-align: top;\n",
       "    }\n",
       "\n",
       "    .dataframe thead th {\n",
       "        text-align: right;\n",
       "    }\n",
       "</style>\n",
       "<table border=\"1\" class=\"dataframe\">\n",
       "  <thead>\n",
       "    <tr style=\"text-align: right;\">\n",
       "      <th></th>\n",
       "      <th>item</th>\n",
       "      <th>cost</th>\n",
       "    </tr>\n",
       "  </thead>\n",
       "  <tbody>\n",
       "    <tr>\n",
       "      <th>0</th>\n",
       "      <td>book</td>\n",
       "      <td>50</td>\n",
       "    </tr>\n",
       "    <tr>\n",
       "      <th>1</th>\n",
       "      <td>magazine</td>\n",
       "      <td>47</td>\n",
       "    </tr>\n",
       "    <tr>\n",
       "      <th>2</th>\n",
       "      <td>coffee</td>\n",
       "      <td>25</td>\n",
       "    </tr>\n",
       "    <tr>\n",
       "      <th>3</th>\n",
       "      <td>labels</td>\n",
       "      <td>15</td>\n",
       "    </tr>\n",
       "    <tr>\n",
       "      <th>4</th>\n",
       "      <td>music</td>\n",
       "      <td>79</td>\n",
       "    </tr>\n",
       "  </tbody>\n",
       "</table>\n",
       "</div>\n",
       "      <button class=\"colab-df-convert\" onclick=\"convertToInteractive('df-7f6c8752-1398-4f3d-84dd-49ad9ad986e7')\"\n",
       "              title=\"Convert this dataframe to an interactive table.\"\n",
       "              style=\"display:none;\">\n",
       "        \n",
       "  <svg xmlns=\"http://www.w3.org/2000/svg\" height=\"24px\"viewBox=\"0 0 24 24\"\n",
       "       width=\"24px\">\n",
       "    <path d=\"M0 0h24v24H0V0z\" fill=\"none\"/>\n",
       "    <path d=\"M18.56 5.44l.94 2.06.94-2.06 2.06-.94-2.06-.94-.94-2.06-.94 2.06-2.06.94zm-11 1L8.5 8.5l.94-2.06 2.06-.94-2.06-.94L8.5 2.5l-.94 2.06-2.06.94zm10 10l.94 2.06.94-2.06 2.06-.94-2.06-.94-.94-2.06-.94 2.06-2.06.94z\"/><path d=\"M17.41 7.96l-1.37-1.37c-.4-.4-.92-.59-1.43-.59-.52 0-1.04.2-1.43.59L10.3 9.45l-7.72 7.72c-.78.78-.78 2.05 0 2.83L4 21.41c.39.39.9.59 1.41.59.51 0 1.02-.2 1.41-.59l7.78-7.78 2.81-2.81c.8-.78.8-2.07 0-2.86zM5.41 20L4 18.59l7.72-7.72 1.47 1.35L5.41 20z\"/>\n",
       "  </svg>\n",
       "      </button>\n",
       "      \n",
       "  <style>\n",
       "    .colab-df-container {\n",
       "      display:flex;\n",
       "      flex-wrap:wrap;\n",
       "      gap: 12px;\n",
       "    }\n",
       "\n",
       "    .colab-df-convert {\n",
       "      background-color: #E8F0FE;\n",
       "      border: none;\n",
       "      border-radius: 50%;\n",
       "      cursor: pointer;\n",
       "      display: none;\n",
       "      fill: #1967D2;\n",
       "      height: 32px;\n",
       "      padding: 0 0 0 0;\n",
       "      width: 32px;\n",
       "    }\n",
       "\n",
       "    .colab-df-convert:hover {\n",
       "      background-color: #E2EBFA;\n",
       "      box-shadow: 0px 1px 2px rgba(60, 64, 67, 0.3), 0px 1px 3px 1px rgba(60, 64, 67, 0.15);\n",
       "      fill: #174EA6;\n",
       "    }\n",
       "\n",
       "    [theme=dark] .colab-df-convert {\n",
       "      background-color: #3B4455;\n",
       "      fill: #D2E3FC;\n",
       "    }\n",
       "\n",
       "    [theme=dark] .colab-df-convert:hover {\n",
       "      background-color: #434B5C;\n",
       "      box-shadow: 0px 1px 3px 1px rgba(0, 0, 0, 0.15);\n",
       "      filter: drop-shadow(0px 1px 2px rgba(0, 0, 0, 0.3));\n",
       "      fill: #FFFFFF;\n",
       "    }\n",
       "  </style>\n",
       "\n",
       "      <script>\n",
       "        const buttonEl =\n",
       "          document.querySelector('#df-7f6c8752-1398-4f3d-84dd-49ad9ad986e7 button.colab-df-convert');\n",
       "        buttonEl.style.display =\n",
       "          google.colab.kernel.accessAllowed ? 'block' : 'none';\n",
       "\n",
       "        async function convertToInteractive(key) {\n",
       "          const element = document.querySelector('#df-7f6c8752-1398-4f3d-84dd-49ad9ad986e7');\n",
       "          const dataTable =\n",
       "            await google.colab.kernel.invokeFunction('convertToInteractive',\n",
       "                                                     [key], {});\n",
       "          if (!dataTable) return;\n",
       "\n",
       "          const docLinkHtml = 'Like what you see? Visit the ' +\n",
       "            '<a target=\"_blank\" href=https://colab.research.google.com/notebooks/data_table.ipynb>data table notebook</a>'\n",
       "            + ' to learn more about interactive tables.';\n",
       "          element.innerHTML = '';\n",
       "          dataTable['output_type'] = 'display_data';\n",
       "          await google.colab.output.renderOutput(dataTable, element);\n",
       "          const docLink = document.createElement('div');\n",
       "          docLink.innerHTML = docLinkHtml;\n",
       "          element.appendChild(docLink);\n",
       "        }\n",
       "      </script>\n",
       "    </div>\n",
       "  </div>\n",
       "  "
      ],
      "text/plain": [
       "       item  cost\n",
       "0      book    50\n",
       "1  magazine    47\n",
       "2    coffee    25\n",
       "3    labels    15\n",
       "4     music    79"
      ]
     },
     "execution_count": 50,
     "metadata": {},
     "output_type": "execute_result"
    }
   ],
   "source": [
    "df.head()"
   ]
  },
  {
   "cell_type": "markdown",
   "metadata": {
    "id": "wffMw88yjX47"
   },
   "source": [
    "That's what you want! You'll encounter this in future lessons, so now you're ready!"
   ]
  }
 ],
 "metadata": {
  "colab": {
   "collapsed_sections": [],
   "name": "python_cleaning_data.ipynb",
   "provenance": []
  },
  "kernelspec": {
   "display_name": "Python 3 (ipykernel)",
   "language": "python",
   "name": "python3"
  },
  "language_info": {
   "codemirror_mode": {
    "name": "ipython",
    "version": 3
   },
   "file_extension": ".py",
   "mimetype": "text/x-python",
   "name": "python",
   "nbconvert_exporter": "python",
   "pygments_lexer": "ipython3",
   "version": "3.9.10"
  }
 },
 "nbformat": 4,
 "nbformat_minor": 1
}
